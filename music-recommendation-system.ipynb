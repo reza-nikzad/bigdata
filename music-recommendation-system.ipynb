{
 "cells": [
  {
   "cell_type": "markdown",
   "id": "c0c8b9af",
   "metadata": {},
   "source": [
    "### Dataset: \n",
    "In this project, we are going to work with two datasets to implement Collaborative Filtering and Content-Based song recommendation system. \n",
    "Datasets: \n",
    "\n",
    "1- <b>MillionSongDataset (MSD):</b> \n",
    "We are working with a subset of this dataset(10k out of 350k)(http://millionsongdataset.com/pages/getting-dataset/)\n",
    "It is possible to access the whole dataset by AWS, however it is not free. \n",
    "Although we are using the subset of this dataset, the code is <b><u>scalable</u></b>.\n",
    "    \n",
    "2- Implicit rating of 1million User(number of time a song played): http://millionsongdataset.com/tasteprofile/\n",
    "\n",
    "#### Packages: "
   ]
  },
  {
   "cell_type": "code",
   "execution_count": 1,
   "id": "11cf7ed4",
   "metadata": {},
   "outputs": [],
   "source": [
    "import numpy as np\n",
    "import pandas as pd\n",
    "import tables   # Note: before installing pytables package, install HDF5, Numexpr, Cython, c-blosc packages\n",
    "import h5py\n",
    "import os\n",
    "import fnmatch\n",
    "import sys\n",
    "\n",
    "import matplotlib.pyplot as plt\n",
    "import seaborn as sns\n",
    "\n",
    "from pyspark.sql import SparkSession, Row\n",
    "from pyspark import SparkContext\n",
    "from pyspark.sql.types import *\n",
    "\n",
    "from pyspark.ml.feature import MinMaxScaler\n",
    "from pyspark.ml.feature import VectorAssembler\n",
    "from pyspark.ml import Pipeline\n",
    "from pyspark.sql.functions import udf\n",
    "from pyspark.sql.types import DoubleType\n",
    "from pyspark_dist_explore import hist # install by \"pip install pyspark_dist_explore\"\n",
    "\n",
    "from pyspark.sql.functions import col,isnan,when,count\n",
    "\n",
    "from pyspark.ml.evaluation import RegressionEvaluator\n",
    "from pyspark.ml.recommendation import ALS\n",
    "from pyspark.sql import Row\n",
    "from pyspark.ml.feature import StringIndexer\n",
    "\n",
    "import pyspark.sql.functions as F\n",
    "from pyspark.sql.types import ArrayType, DoubleType\n",
    "from pyspark.ml.feature import RobustScaler\n"
   ]
  },
  {
   "cell_type": "markdown",
   "id": "bf5fcc4d",
   "metadata": {},
   "source": [
    "#### Create spark cluster: "
   ]
  },
  {
   "cell_type": "code",
   "execution_count": 2,
   "id": "4bd9844d",
   "metadata": {},
   "outputs": [],
   "source": [
    "spark = SparkSession.builder.appName(\"Milion Songs Dataset\").getOrCreate()\n",
    "sc = SparkContext.getOrCreate()"
   ]
  },
  {
   "cell_type": "markdown",
   "id": "b8c63467",
   "metadata": {},
   "source": [
    "#### path to datasets: "
   ]
  },
  {
   "cell_type": "code",
   "execution_count": 3,
   "id": "f5dfd90b",
   "metadata": {},
   "outputs": [],
   "source": [
    "data_MSD_path = 'MillionSongSubset'\n",
    "data_impl_rating_path = 'train_triplets/train_triplets.txt'"
   ]
  },
  {
   "cell_type": "markdown",
   "id": "8b22f757",
   "metadata": {},
   "source": [
    "### First dataset: \n",
    "#### Read the MSD dataset from HDF5 directories: \n",
    "- In order to read HDF5 file, HDFStore function of pandas library is used to read each .h5 file and keep in pyspark dataframe\n",
    "- Each file(.h5) contains three keys <b>'/analysis/songs/', '/metadata/songs/', '/musicbrainz/songs/'\n",
    "- Each key allow us to access data and metadata stored in the dataset "
   ]
  },
  {
   "cell_type": "markdown",
   "id": "f085fc1a",
   "metadata": {},
   "source": [
    "- Easy method to walk through the directory and read files and append to spark dataframe while it is not efficient and scalable"
   ]
  },
  {
   "cell_type": "raw",
   "id": "7bac697f",
   "metadata": {},
   "source": [
    "for path,_,filename in os.walk(data_MSD_path):\n",
    "    for filename in fnmatch.filter(filename, '*.h5'):\n",
    "        hdf = pd.HDFStore(os.path.join(path, filename),mode ='r')\n",
    "        df1 = hdf.get('/analysis/songs/')\n",
    "        df2 = hdf.get('/metadata/songs/')\n",
    "        df3 = hdf.get('/musicbrainz/songs/')\n",
    "        df_concat = pd.concat([df1,df2,df3], axis = 1)[attrbs]\n",
    "        data_MSD.union(spark.createDataFrame(df_concat))\n",
    "        hdf.close()"
   ]
  },
  {
   "cell_type": "markdown",
   "id": "ad73bd2e",
   "metadata": {},
   "source": [
    "#### Load the data in parallel with the help of spark RDD "
   ]
  },
  {
   "cell_type": "code",
   "execution_count": 4,
   "id": "7a45db08",
   "metadata": {
    "scrolled": true
   },
   "outputs": [
    {
     "name": "stdout",
     "output_type": "stream",
     "text": [
      "                                                                   0\n",
      "analysis_sample_rate                                           22050\n",
      "audio_md5                           a222795e07cd65b7a530f1346f520649\n",
      "danceability                                                     0.0\n",
      "duration                                                   218.93179\n",
      "end_of_fade_in                                                 0.247\n",
      "energy                                                           0.0\n",
      "idx_bars_confidence                                                0\n",
      "idx_bars_start                                                     0\n",
      "idx_beats_confidence                                               0\n",
      "idx_beats_start                                                    0\n",
      "idx_sections_confidence                                            0\n",
      "idx_sections_start                                                 0\n",
      "idx_segments_confidence                                            0\n",
      "idx_segments_loudness_max                                          0\n",
      "idx_segments_loudness_max_time                                     0\n",
      "idx_segments_loudness_start                                        0\n",
      "idx_segments_pitches                                               0\n",
      "idx_segments_start                                                 0\n",
      "idx_segments_timbre                                                0\n",
      "idx_tatums_confidence                                              0\n",
      "idx_tatums_start                                                   0\n",
      "key                                                                1\n",
      "key_confidence                                                 0.736\n",
      "loudness                                                     -11.197\n",
      "mode                                                               0\n",
      "mode_confidence                                                0.636\n",
      "start_of_fade_out                                            218.932\n",
      "tempo                                                         92.198\n",
      "time_signature                                                     4\n",
      "time_signature_confidence                                      0.778\n",
      "track_id                                          TRAAAAW128F429D538\n",
      "analyzer_version                                                    \n",
      "artist_7digitalid                                             165270\n",
      "artist_familiarity                                          0.581794\n",
      "artist_hotttnesss                                           0.401998\n",
      "artist_id                                         ARD7TVE1187B99BFB1\n",
      "artist_latitude                                                  NaN\n",
      "artist_location                                      California - LA\n",
      "artist_longitude                                                 NaN\n",
      "artist_mbid                     e77e51a5-4761-45b3-9847-2051f811e366\n",
      "artist_name                                                   Casual\n",
      "artist_playmeid                                                 4479\n",
      "genre                                                               \n",
      "idx_artist_terms                                                   0\n",
      "idx_similar_artists                                                0\n",
      "release                                                  Fear Itself\n",
      "release_7digitalid                                            300848\n",
      "song_hotttnesss                                              0.60212\n",
      "song_id                                           SOMZWCG12A8C13C480\n",
      "title                                               I Didn't Mean To\n",
      "track_7digitalid                                             3401791\n",
      "idx_artist_mbtags                                                  0\n",
      "year                                                               0\n"
     ]
    }
   ],
   "source": [
    "# load a sample of data to see the columns\n",
    "hdf = pd.HDFStore(data_MSD_path+'/A/A/A/TRAAAAW128F429D538.h5',mode ='r', header = False)\n",
    "df1 = hdf.get('/analysis/songs/')\n",
    "df2 = hdf.get('/metadata/songs/')\n",
    "df3 = hdf.get('/musicbrainz/songs/')\n",
    "hdf.close()\n",
    "sample_data_MSD = pd.concat([df1,df2,df3], axis = 1)\n",
    "print(sample_data_MSD.T)"
   ]
  },
  {
   "cell_type": "markdown",
   "id": "2ee41d05",
   "metadata": {},
   "source": [
    "#### Extracting desirable features: \n",
    "Following columns are chosen to be used in this project. "
   ]
  },
  {
   "cell_type": "code",
   "execution_count": 5,
   "id": "1be84b2b",
   "metadata": {},
   "outputs": [],
   "source": [
    "attribs=['song_id',\n",
    "        'title', \n",
    "        'artist_id', \n",
    "        'duration',\n",
    "        'key', \n",
    "        'loudness',\n",
    "        'mode',\n",
    "        'tempo',\n",
    "        'time_signature',\n",
    "        'song_hotttnesss', \n",
    "        'artist_hotttnesss', \n",
    "        'artist_familiarity', \n",
    "        'year'\n",
    "       ] "
   ]
  },
  {
   "cell_type": "code",
   "execution_count": 6,
   "id": "a0daca8a",
   "metadata": {},
   "outputs": [],
   "source": [
    "\n",
    "# This function is used in RDD to read each .h5 file and return a list of string(data of columns)\n",
    "# f: directory path from spark.wholeTextFiles() function\n",
    "# d: dataset directory path\n",
    "def read_h5(f,d):\n",
    "    # prune the file path is essential here, because the wholeTextFile function returns the absolute path\n",
    "    hdf = pd.HDFStore(f[f.index(d):],mode ='r', header = False)  # Openning HDFStore to read .h5 file\n",
    "    \n",
    "    # The dataset is HDFS file with 3 main key {analysis, metadata, musicbrains} which 'songs' key allow us \n",
    "    # to access the data of each song(It should be mentioned that there are)  \n",
    "    df1 = hdf.get('/analysis/songs/')\n",
    "    df2 = hdf.get('/metadata/songs/')\n",
    "    df3 = hdf.get('/musicbrainz/songs/')\n",
    "    \n",
    "    hdf.close()                                                  # Closing HDFStore  \n",
    "    \n",
    "    # concatenate all columns together in a dataframe and pick our desired features\n",
    "    df_concat = pd.concat([df1,df2,df3], axis = 1)[attribs] \n",
    "    \n",
    "    # return the result as a list of string to be able to store in rdd\n",
    "    return df_concat.values.tolist()[0]\n"
   ]
  },
  {
   "cell_type": "code",
   "execution_count": 7,
   "id": "a3d94011",
   "metadata": {},
   "outputs": [],
   "source": [
    "# find all path of all files without loading the files\n",
    "rdd = sc.wholeTextFiles(data_MSD_path+'/*/*/*/*.h5').map(lambda x: read_h5(x[0],data_MSD_path))"
   ]
  },
  {
   "cell_type": "code",
   "execution_count": 9,
   "id": "19bfd716",
   "metadata": {},
   "outputs": [
    {
     "data": {
      "text/plain": [
       "['SOMZWCG12A8C13C480',\n",
       " \"I Didn't Mean To\",\n",
       " 'ARD7TVE1187B99BFB1',\n",
       " 218.93179,\n",
       " 1,\n",
       " -11.197,\n",
       " 0,\n",
       " 92.198,\n",
       " 4,\n",
       " 0.6021199899057548,\n",
       " 0.4019975433642836,\n",
       " 0.5817937658450281,\n",
       " 0]"
      ]
     },
     "execution_count": 9,
     "metadata": {},
     "output_type": "execute_result"
    }
   ],
   "source": [
    "rdd.first()"
   ]
  },
  {
   "cell_type": "markdown",
   "id": "a585a7e7",
   "metadata": {},
   "source": [
    "- As you see the first imported data to rdd is the same as the above sample (irrelevant columns are eliminated here)"
   ]
  },
  {
   "cell_type": "markdown",
   "id": "eabcedb6",
   "metadata": {},
   "source": [
    "Createing Spark dataframe from the RDD: "
   ]
  },
  {
   "cell_type": "code",
   "execution_count": 8,
   "id": "3d16096c",
   "metadata": {},
   "outputs": [],
   "source": [
    "# creating the schema for spark dataframe \n",
    "schema = StructType([\n",
    "    StructField('song_id', StringType(), True),\n",
    "    StructField('title', StringType(), True),\n",
    "    StructField('artist_id', StringType(), True),\n",
    "    StructField('duration', FloatType(), True),\n",
    "    StructField('key', IntegerType(), True),\n",
    "    StructField('loudness', FloatType(), True),\n",
    "    StructField('mode', IntegerType(), True),\n",
    "    StructField('tempo', FloatType(), True),\n",
    "    StructField('time_signature', IntegerType(), True),\n",
    "    StructField('song_hotttnesss', FloatType(), True),\n",
    "    StructField('artist_hotttnesss', FloatType(), True),\n",
    "    StructField('artist_familiarity', FloatType(), True), \n",
    "    StructField('year', IntegerType(), True)\n",
    "])\n"
   ]
  },
  {
   "cell_type": "code",
   "execution_count": 9,
   "id": "fd17c753",
   "metadata": {},
   "outputs": [],
   "source": [
    "data_MSD = spark.createDataFrame(rdd, schema)"
   ]
  },
  {
   "cell_type": "code",
   "execution_count": 16,
   "id": "06906578",
   "metadata": {},
   "outputs": [
    {
     "data": {
      "text/html": [
       "<div>\n",
       "<style scoped>\n",
       "    .dataframe tbody tr th:only-of-type {\n",
       "        vertical-align: middle;\n",
       "    }\n",
       "\n",
       "    .dataframe tbody tr th {\n",
       "        vertical-align: top;\n",
       "    }\n",
       "\n",
       "    .dataframe thead th {\n",
       "        text-align: right;\n",
       "    }\n",
       "</style>\n",
       "<table border=\"1\" class=\"dataframe\">\n",
       "  <thead>\n",
       "    <tr style=\"text-align: right;\">\n",
       "      <th></th>\n",
       "      <th>count</th>\n",
       "      <th>mean</th>\n",
       "      <th>std</th>\n",
       "      <th>min</th>\n",
       "      <th>25%</th>\n",
       "      <th>50%</th>\n",
       "      <th>75%</th>\n",
       "      <th>max</th>\n",
       "    </tr>\n",
       "  </thead>\n",
       "  <tbody>\n",
       "    <tr>\n",
       "      <th>duration</th>\n",
       "      <td>10000.0</td>\n",
       "      <td>238.507523</td>\n",
       "      <td>114.137512</td>\n",
       "      <td>1.044440</td>\n",
       "      <td>176.032196</td>\n",
       "      <td>223.059143</td>\n",
       "      <td>276.375061</td>\n",
       "      <td>1819.767700</td>\n",
       "    </tr>\n",
       "    <tr>\n",
       "      <th>key</th>\n",
       "      <td>10000.0</td>\n",
       "      <td>5.276100</td>\n",
       "      <td>3.554087</td>\n",
       "      <td>0.000000</td>\n",
       "      <td>2.000000</td>\n",
       "      <td>5.000000</td>\n",
       "      <td>8.000000</td>\n",
       "      <td>11.000000</td>\n",
       "    </tr>\n",
       "    <tr>\n",
       "      <th>loudness</th>\n",
       "      <td>10000.0</td>\n",
       "      <td>-10.485669</td>\n",
       "      <td>5.399788</td>\n",
       "      <td>-51.643002</td>\n",
       "      <td>-13.163250</td>\n",
       "      <td>-9.380000</td>\n",
       "      <td>-6.532500</td>\n",
       "      <td>0.566000</td>\n",
       "    </tr>\n",
       "    <tr>\n",
       "      <th>mode</th>\n",
       "      <td>10000.0</td>\n",
       "      <td>0.691100</td>\n",
       "      <td>0.462063</td>\n",
       "      <td>0.000000</td>\n",
       "      <td>0.000000</td>\n",
       "      <td>1.000000</td>\n",
       "      <td>1.000000</td>\n",
       "      <td>1.000000</td>\n",
       "    </tr>\n",
       "    <tr>\n",
       "      <th>tempo</th>\n",
       "      <td>10000.0</td>\n",
       "      <td>122.915451</td>\n",
       "      <td>35.184414</td>\n",
       "      <td>0.000000</td>\n",
       "      <td>96.965752</td>\n",
       "      <td>120.161003</td>\n",
       "      <td>144.013245</td>\n",
       "      <td>262.828003</td>\n",
       "    </tr>\n",
       "    <tr>\n",
       "      <th>time_signature</th>\n",
       "      <td>10000.0</td>\n",
       "      <td>3.564800</td>\n",
       "      <td>1.266239</td>\n",
       "      <td>0.000000</td>\n",
       "      <td>3.000000</td>\n",
       "      <td>4.000000</td>\n",
       "      <td>4.000000</td>\n",
       "      <td>7.000000</td>\n",
       "    </tr>\n",
       "    <tr>\n",
       "      <th>song_hotttnesss</th>\n",
       "      <td>5648.0</td>\n",
       "      <td>0.342822</td>\n",
       "      <td>0.247220</td>\n",
       "      <td>0.000000</td>\n",
       "      <td>0.000000</td>\n",
       "      <td>0.360371</td>\n",
       "      <td>0.537504</td>\n",
       "      <td>1.000000</td>\n",
       "    </tr>\n",
       "    <tr>\n",
       "      <th>artist_hotttnesss</th>\n",
       "      <td>10000.0</td>\n",
       "      <td>0.385552</td>\n",
       "      <td>0.143647</td>\n",
       "      <td>0.000000</td>\n",
       "      <td>0.325266</td>\n",
       "      <td>0.380742</td>\n",
       "      <td>0.453858</td>\n",
       "      <td>1.082503</td>\n",
       "    </tr>\n",
       "    <tr>\n",
       "      <th>artist_familiarity</th>\n",
       "      <td>9996.0</td>\n",
       "      <td>0.565456</td>\n",
       "      <td>0.160161</td>\n",
       "      <td>0.000000</td>\n",
       "      <td>0.467611</td>\n",
       "      <td>0.563666</td>\n",
       "      <td>0.668020</td>\n",
       "      <td>1.000000</td>\n",
       "    </tr>\n",
       "    <tr>\n",
       "      <th>year</th>\n",
       "      <td>10000.0</td>\n",
       "      <td>934.704600</td>\n",
       "      <td>996.650657</td>\n",
       "      <td>0.000000</td>\n",
       "      <td>0.000000</td>\n",
       "      <td>0.000000</td>\n",
       "      <td>2000.000000</td>\n",
       "      <td>2010.000000</td>\n",
       "    </tr>\n",
       "  </tbody>\n",
       "</table>\n",
       "</div>"
      ],
      "text/plain": [
       "                      count        mean         std        min         25%  \\\n",
       "duration            10000.0  238.507523  114.137512   1.044440  176.032196   \n",
       "key                 10000.0    5.276100    3.554087   0.000000    2.000000   \n",
       "loudness            10000.0  -10.485669    5.399788 -51.643002  -13.163250   \n",
       "mode                10000.0    0.691100    0.462063   0.000000    0.000000   \n",
       "tempo               10000.0  122.915451   35.184414   0.000000   96.965752   \n",
       "time_signature      10000.0    3.564800    1.266239   0.000000    3.000000   \n",
       "song_hotttnesss      5648.0    0.342822    0.247220   0.000000    0.000000   \n",
       "artist_hotttnesss   10000.0    0.385552    0.143647   0.000000    0.325266   \n",
       "artist_familiarity   9996.0    0.565456    0.160161   0.000000    0.467611   \n",
       "year                10000.0  934.704600  996.650657   0.000000    0.000000   \n",
       "\n",
       "                           50%          75%          max  \n",
       "duration            223.059143   276.375061  1819.767700  \n",
       "key                   5.000000     8.000000    11.000000  \n",
       "loudness             -9.380000    -6.532500     0.566000  \n",
       "mode                  1.000000     1.000000     1.000000  \n",
       "tempo               120.161003   144.013245   262.828003  \n",
       "time_signature        4.000000     4.000000     7.000000  \n",
       "song_hotttnesss       0.360371     0.537504     1.000000  \n",
       "artist_hotttnesss     0.380742     0.453858     1.082503  \n",
       "artist_familiarity    0.563666     0.668020     1.000000  \n",
       "year                  0.000000  2000.000000  2010.000000  "
      ]
     },
     "execution_count": 16,
     "metadata": {},
     "output_type": "execute_result"
    }
   ],
   "source": [
    "# here the data is loaded to the memory \n",
    "data_MSD.toPandas().describe().T"
   ]
  },
  {
   "cell_type": "code",
   "execution_count": 12,
   "id": "1522f4b4",
   "metadata": {},
   "outputs": [
    {
     "data": {
      "text/plain": [
       "DataFrame[song_id: string, title: string, artist_id: string, duration: float, key: int, loudness: float, mode: int, tempo: float, time_signature: int, song_hotttnesss: float, artist_hotttnesss: float, artist_familiarity: float, year: int]"
      ]
     },
     "execution_count": 12,
     "metadata": {},
     "output_type": "execute_result"
    }
   ],
   "source": []
  },
  {
   "cell_type": "code",
   "execution_count": null,
   "id": "21518c0c",
   "metadata": {},
   "outputs": [],
   "source": []
  },
  {
   "cell_type": "code",
   "execution_count": null,
   "id": "245f3390",
   "metadata": {},
   "outputs": [],
   "source": []
  },
  {
   "cell_type": "markdown",
   "id": "38224bfe",
   "metadata": {},
   "source": [
    "### Second dataset:\n",
    "#### Load User-Items(Music) dataset: \n",
    "- This dataset consists of three columns: userId, songId, and number of play for each song. \n",
    "- Consists of 1 Million user \n",
    "- Since the Million Song Dataset is a subset of all dataset(10000 songs) we should match songs of this dataset with the songs of above dataset"
   ]
  },
  {
   "cell_type": "code",
   "execution_count": 45,
   "id": "e5969687",
   "metadata": {},
   "outputs": [],
   "source": [
    "# define schema, nullable is set true\n",
    "schema2 = StructType([\n",
    "    StructField('userId', StringType(), True),\n",
    "    StructField('songId', StringType(), True),\n",
    "    StructField('play_count', IntegerType(), True)])"
   ]
  },
  {
   "cell_type": "code",
   "execution_count": 46,
   "id": "4d40a71d",
   "metadata": {},
   "outputs": [],
   "source": [
    "# read the file as a csv file which each coloumn is divided by a tab(in spark dataframe)\n",
    "data_imp_rating = spark.read.option(\"delimiter\", \"\\t\").schema(schema2).csv(data_impl_rating_path) "
   ]
  },
  {
   "cell_type": "code",
   "execution_count": 47,
   "id": "057b667b",
   "metadata": {},
   "outputs": [
    {
     "data": {
      "text/plain": [
       "['userId', 'songId', 'play_count']"
      ]
     },
     "execution_count": 47,
     "metadata": {},
     "output_type": "execute_result"
    }
   ],
   "source": [
    "data_imp_rating.columns"
   ]
  },
  {
   "cell_type": "code",
   "execution_count": 21,
   "id": "a578ecf2",
   "metadata": {
    "scrolled": true
   },
   "outputs": [
    {
     "name": "stdout",
     "output_type": "stream",
     "text": [
      "+-------+--------------------+------------------+-----------------+\n",
      "|summary|              userId|            songId|       play_count|\n",
      "+-------+--------------------+------------------+-----------------+\n",
      "|  count|            48373586|          48373586|         48373586|\n",
      "|   mean|                null|              null|2.866858847305635|\n",
      "| stddev|                null|              null|6.437724686877057|\n",
      "|    min|00000b72200188206...|SOAAADD12AB018A9DD|                1|\n",
      "|    max|fffff9534445f481b...|SOZZZWN12AF72A1E29|             9667|\n",
      "+-------+--------------------+------------------+-----------------+\n",
      "\n"
     ]
    }
   ],
   "source": [
    "data_imp_rating.describe().show()"
   ]
  },
  {
   "cell_type": "code",
   "execution_count": 22,
   "id": "fa2cc39b",
   "metadata": {
    "scrolled": false
   },
   "outputs": [
    {
     "name": "stdout",
     "output_type": "stream",
     "text": [
      "+--------------------+------------------+----------+\n",
      "|              userId|            songId|play_count|\n",
      "+--------------------+------------------+----------+\n",
      "|b80344d063b5ccb32...|SOAKIMP12A8C130995|         1|\n",
      "|b80344d063b5ccb32...|SOAPDEY12A81C210A9|         1|\n",
      "+--------------------+------------------+----------+\n",
      "only showing top 2 rows\n",
      "\n"
     ]
    }
   ],
   "source": [
    "data_imp_rating.show(2)"
   ]
  },
  {
   "cell_type": "markdown",
   "id": "2e21b3c6",
   "metadata": {},
   "source": [
    "## Data Preprocessing: \n",
    "#### First dataset: \n",
    "##### dealing with null values"
   ]
  },
  {
   "cell_type": "markdown",
   "id": "ad0c1f69",
   "metadata": {},
   "source": [
    "- Checking Null, empty, None, Nan values for each column: "
   ]
  },
  {
   "cell_type": "code",
   "execution_count": 13,
   "id": "50114487",
   "metadata": {},
   "outputs": [],
   "source": [
    "# Loop through all columns for each row and count: empty, None, Null, Nan \n",
    "ps_df = data_MSD.select([count(when(col(c).contains('None') | col(c).contains('NULL') | (col(c) == '' ) | col(c).isNull() | isnan(c), \n",
    "                                      c )).alias(c) for c in data_MSD.columns])\n"
   ]
  },
  {
   "cell_type": "code",
   "execution_count": null,
   "id": "adabe79e",
   "metadata": {},
   "outputs": [],
   "source": [
    "pdd = ps_df.toPandas()"
   ]
  },
  {
   "cell_type": "code",
   "execution_count": null,
   "id": "d77ad1c0",
   "metadata": {},
   "outputs": [],
   "source": [
    "pdd"
   ]
  },
  {
   "cell_type": "markdown",
   "id": "be088684",
   "metadata": {},
   "source": [
    "Based on the result, song_hotttnesss feature has huge amount of null values. Thus we decide to not use this feature and remove the column. \n",
    "Title feature has only 2 missing values, since we are not going to work with this feature it is left untouch. \n",
    "For the artist_familiarity feature we just remove 4 missing values. \n",
    "Year feature: By looking at the describtion of the dataset, min value is 0, which is not valid. Thus, we need to investigate more and count the zero values. "
   ]
  },
  {
   "cell_type": "code",
   "execution_count": 14,
   "id": "3ad415b4-2248-4981-82d7-6e391032edde",
   "metadata": {},
   "outputs": [
    {
     "data": {
      "text/plain": [
       "5320"
      ]
     },
     "execution_count": 14,
     "metadata": {},
     "output_type": "execute_result"
    }
   ],
   "source": [
    "data_MSD.filter(data_MSD['year'] == '0').count()"
   ]
  },
  {
   "cell_type": "markdown",
   "id": "c7faf527",
   "metadata": {},
   "source": [
    "- Since the number of 0 values in year are too much and it is better to remove this feature: "
   ]
  },
  {
   "cell_type": "code",
   "execution_count": 18,
   "id": "58ea430d",
   "metadata": {},
   "outputs": [],
   "source": [
    "data_MSD = data_MSD.drop(\"year\")"
   ]
  },
  {
   "cell_type": "markdown",
   "id": "d66b9de7",
   "metadata": {},
   "source": [
    "- The same for song_hotttnesss"
   ]
  },
  {
   "cell_type": "code",
   "execution_count": 19,
   "id": "3e1a9771",
   "metadata": {},
   "outputs": [],
   "source": [
    "data_MSD = data_MSD.drop(\"song_hotttnesss\")"
   ]
  },
  {
   "cell_type": "markdown",
   "id": "41cc6c3a-21e2-4d88-893b-7df1732fe05f",
   "metadata": {},
   "source": [
    "- Remove null values of artist_familiarity:"
   ]
  },
  {
   "cell_type": "code",
   "execution_count": 20,
   "id": "91df395c-ab26-4f0c-b3de-d82e8c1ef5a5",
   "metadata": {},
   "outputs": [],
   "source": [
    "data_MSD = data_MSD.dropna(subset=['artist_familiarity'],how='all')"
   ]
  },
  {
   "cell_type": "markdown",
   "id": "8ef9f571",
   "metadata": {},
   "source": [
    "Making sure the changes being applied: "
   ]
  },
  {
   "cell_type": "code",
   "execution_count": null,
   "id": "4cea3add",
   "metadata": {},
   "outputs": [],
   "source": [
    "ps_df = data_MSD.select([count(when(col(c).contains('None') | col(c).contains('NULL') | (col(c) == '' ) | col(c).isNull() | isnan(c), \n",
    "                                      c )).alias(c) for c in data_MSD.columns])"
   ]
  },
  {
   "cell_type": "code",
   "execution_count": 31,
   "id": "ca9268a1",
   "metadata": {},
   "outputs": [],
   "source": [
    "pdd = ps_df.toPandas()"
   ]
  },
  {
   "cell_type": "code",
   "execution_count": 32,
   "id": "5638f5ee",
   "metadata": {},
   "outputs": [
    {
     "data": {
      "text/html": [
       "<div>\n",
       "<style scoped>\n",
       "    .dataframe tbody tr th:only-of-type {\n",
       "        vertical-align: middle;\n",
       "    }\n",
       "\n",
       "    .dataframe tbody tr th {\n",
       "        vertical-align: top;\n",
       "    }\n",
       "\n",
       "    .dataframe thead th {\n",
       "        text-align: right;\n",
       "    }\n",
       "</style>\n",
       "<table border=\"1\" class=\"dataframe\">\n",
       "  <thead>\n",
       "    <tr style=\"text-align: right;\">\n",
       "      <th></th>\n",
       "      <th>song_id</th>\n",
       "      <th>title</th>\n",
       "      <th>artist_id</th>\n",
       "      <th>duration</th>\n",
       "      <th>key</th>\n",
       "      <th>loudness</th>\n",
       "      <th>mode</th>\n",
       "      <th>tempo</th>\n",
       "      <th>time_signature</th>\n",
       "      <th>artist_hotttnesss</th>\n",
       "      <th>artist_familiarity</th>\n",
       "    </tr>\n",
       "  </thead>\n",
       "  <tbody>\n",
       "    <tr>\n",
       "      <th>0</th>\n",
       "      <td>0</td>\n",
       "      <td>2</td>\n",
       "      <td>0</td>\n",
       "      <td>0</td>\n",
       "      <td>0</td>\n",
       "      <td>0</td>\n",
       "      <td>0</td>\n",
       "      <td>0</td>\n",
       "      <td>0</td>\n",
       "      <td>0</td>\n",
       "      <td>0</td>\n",
       "    </tr>\n",
       "  </tbody>\n",
       "</table>\n",
       "</div>"
      ],
      "text/plain": [
       "   song_id  title  artist_id  duration  key  loudness  mode  tempo  \\\n",
       "0        0      2          0         0    0         0     0      0   \n",
       "\n",
       "   time_signature  artist_hotttnesss  artist_familiarity  \n",
       "0               0                  0                   0  "
      ]
     },
     "execution_count": 32,
     "metadata": {},
     "output_type": "execute_result"
    }
   ],
   "source": [
    "pdd"
   ]
  },
  {
   "cell_type": "markdown",
   "id": "3c37a587",
   "metadata": {},
   "source": [
    "#### Plotting all features: "
   ]
  },
  {
   "cell_type": "code",
   "execution_count": 39,
   "id": "15510525-8498-4bc1-8384-abe4730b4601",
   "metadata": {},
   "outputs": [
    {
     "name": "stderr",
     "output_type": "stream",
     "text": [
      "C:\\Users\\reza\\AppData\\Local\\Temp\\ipykernel_2528\\2174606417.py:3: UserWarning: To output multiple subplots, the figure containing the passed axes is being cleared.\n",
      "  data_MSD.toPandas().hist(ax = ax)\n"
     ]
    },
    {
     "data": {
      "text/plain": [
       "array([[<AxesSubplot:title={'center':'duration'}>,\n",
       "        <AxesSubplot:title={'center':'key'}>,\n",
       "        <AxesSubplot:title={'center':'loudness'}>],\n",
       "       [<AxesSubplot:title={'center':'mode'}>,\n",
       "        <AxesSubplot:title={'center':'tempo'}>,\n",
       "        <AxesSubplot:title={'center':'time_signature'}>],\n",
       "       [<AxesSubplot:title={'center':'artist_hotttnesss'}>,\n",
       "        <AxesSubplot:title={'center':'artist_familiarity'}>,\n",
       "        <AxesSubplot:>]], dtype=object)"
      ]
     },
     "execution_count": 39,
     "metadata": {},
     "output_type": "execute_result"
    },
    {
     "data": {
      "image/png": "[encoded data removed]",
      "text/plain": [
       "<Figure size 1080x1440 with 9 Axes>"
      ]
     },
     "metadata": {
      "needs_background": "light"
     },
     "output_type": "display_data"
    }
   ],
   "source": [
    "fig = plt.figure(figsize = (15,20))\n",
    "ax = fig.gca()\n",
    "data_MSD.toPandas().hist(ax = ax)"
   ]
  },
  {
   "cell_type": "markdown",
   "id": "333508a1",
   "metadata": {},
   "source": [
    "#### Now we can decide whether to apply normalization, standardization or both to the data.  \n",
    "standardization: Dealing with outliers by using IQR method\n",
    "\n",
    "normalization: Scale data between 0-1\n",
    "- <b>duration</b>: Obviously we need both here because data is more concentrated between 0 and 500 and we have some outliers above 500 which can be addressed by standardization. \n",
    "    To scale the data between 0-1, normalization can be applied. \n",
    "- <b>key</b>: it is evenly distributed from 0 to 11 and we only apply normalization here to scale it between 0-1\n",
    "- <b>loudness</b>: Same as the duration feature, we have some outliers from -50 to -30 which can be solved by standardization. Normalization will be applied too. \n",
    "- <b>mode</b>: Since this value is either 0 or 1, neither normalization is needed nor standardization \n",
    "- <b>tempo</b>: Since data is symmetrically distributed here we can overlook standardization. However, we apply it on the data to get rid of outliers on its head and tail. \n",
    "- <b>time_signature</b>: Just normalization \n",
    "- <b>artist_hottness</b>: Standardization because the number of data in 0.4 is much bigger than data on 1.0. Also, normalization to scale it between 0-1. \n",
    "- <b>artist_familiarity</b>: the same as artist_hottness\n",
    "    "
   ]
  },
  {
   "cell_type": "code",
   "execution_count": 21,
   "id": "f9b0844a",
   "metadata": {},
   "outputs": [
    {
     "data": {
      "text/plain": [
       "DataFrame[song_id: string, title: string, artist_id: string, duration: float, key: int, loudness: float, mode: int, tempo: float, time_signature: int, artist_hotttnesss: float, artist_familiarity: float]"
      ]
     },
     "execution_count": 21,
     "metadata": {},
     "output_type": "execute_result"
    }
   ],
   "source": [
    "data_MSD.persist()"
   ]
  },
  {
   "cell_type": "markdown",
   "id": "fdb700a0",
   "metadata": {},
   "source": [
    "##### Standardardizer method: "
   ]
  },
  {
   "cell_type": "code",
   "execution_count": 27,
   "id": "41501286",
   "metadata": {},
   "outputs": [],
   "source": [
    "# standardize a column with IQR method\n",
    "def standardize(df, column : str): \n",
    "    \n",
    "    split_udf = udf(lambda x: float(list(x)[0].item()), DoubleType())\n",
    "    \n",
    "    # create a vector assembler\n",
    "    assembler = VectorAssembler(inputCols=[column], outputCol='temp')\n",
    "    \n",
    "    # assembel the vector to dataframe \n",
    "    df = assembler.transform(df) # add temp column \n",
    "    \n",
    "    scaler = RobustScaler(inputCol = 'temp',outputCol='stndr',withScaling= True, withCentering=True,lower=0.25, upper=0.75)\n",
    "    \n",
    "    # Compute summary statistics by fitting the RobustScaler\n",
    "    scalerModel = scaler.fit(df) \n",
    "    \n",
    "    # Transform each column to have unit quantile range.    \n",
    "    df = scalerModel.transform(df)\n",
    "    \n",
    "    # drop the created columns and substitute with the old column\n",
    "    df = df.drop(column,'temp')\n",
    "    df = df.withColumn('stndr',split_udf(col('stndr')))\n",
    "    df = df.withColumnRenamed('stndr', column)\n",
    "    return df , scalerModel\n",
    "    \n"
   ]
  },
  {
   "cell_type": "markdown",
   "id": "25e9bb21",
   "metadata": {},
   "source": [
    "#### Normalizer method: "
   ]
  },
  {
   "cell_type": "code",
   "execution_count": 32,
   "id": "2d41f785",
   "metadata": {},
   "outputs": [],
   "source": [
    "def normalizer(df , column): \n",
    "    # UDF for converting column type from vector to double type\n",
    "    split_udf = udf(lambda x: float(list(x)[0].item()), DoubleType())\n",
    "\n",
    "    # VectorAssembler Transformation - Converting column to vector type\n",
    "    assembler = VectorAssembler(inputCols=[column],outputCol='temp')\n",
    "    df = assembler.transform(df)\n",
    "    \n",
    "    # MaxMinScaler to scale between 0-1\n",
    "    scaler = MinMaxScaler(inputCol='temp', outputCol='normalized')\n",
    "\n",
    "    scalerModel = scaler.fit(df)\n",
    "    df = scalerModel.transform(df)\n",
    "    \n",
    "    # drop the created columns and substitute with the old column\n",
    "    df = df.drop(column,'temp')\n",
    "    df = df.withColumn('normalized',split_udf(col('normalized')))\n",
    "    df = df.withColumnRenamed('normalized', column)\n",
    "    \n",
    "    return df , scalerModel"
   ]
  },
  {
   "cell_type": "code",
   "execution_count": 28,
   "id": "6f39e50d",
   "metadata": {},
   "outputs": [],
   "source": [
    "data_MSD_scaled ,sc = standardize(data_MSD, 'loudness')"
   ]
  },
  {
   "cell_type": "code",
   "execution_count": 31,
   "id": "ccb9b773",
   "metadata": {},
   "outputs": [
    {
     "name": "stdout",
     "output_type": "stream",
     "text": [
      "+--------------------+\n",
      "|            loudness|\n",
      "+--------------------+\n",
      "|-0.27278212534468366|\n",
      "|-0.06815780664999382|\n",
      "| -0.0448843776201452|\n",
      "| 0.05727681092005357|\n",
      "|  0.7391567469718463|\n",
      "+--------------------+\n",
      "only showing top 5 rows\n",
      "\n",
      "None\n"
     ]
    }
   ],
   "source": [
    "print(data_MSD_scaled.select('loudness').show(5))"
   ]
  },
  {
   "cell_type": "code",
   "execution_count": 33,
   "id": "834e95a5",
   "metadata": {},
   "outputs": [],
   "source": [
    "data_MSD_scaled ,scn = normalizer(data_MSD, 'loudness')"
   ]
  },
  {
   "cell_type": "code",
   "execution_count": 34,
   "id": "73ee2c6d",
   "metadata": {},
   "outputs": [
    {
     "name": "stdout",
     "output_type": "stream",
     "text": [
      "+------------------+\n",
      "|          loudness|\n",
      "+------------------+\n",
      "|0.7746940338374722|\n",
      "| 0.800628242458787|\n",
      "|0.8035779307834384|\n",
      "|0.8165259009636404|\n",
      "|0.9029477721716348|\n",
      "+------------------+\n",
      "only showing top 5 rows\n",
      "\n",
      "None\n"
     ]
    }
   ],
   "source": [
    "print(data_MSD_scaled.select('loudness').show(5))"
   ]
  },
  {
   "cell_type": "code",
   "execution_count": 227,
   "id": "fbdd49e1",
   "metadata": {},
   "outputs": [],
   "source": []
  },
  {
   "cell_type": "code",
   "execution_count": 228,
   "id": "7dbbd9b8",
   "metadata": {
    "scrolled": true
   },
   "outputs": [
    {
     "name": "stdout",
     "output_type": "stream",
     "text": [
      "+--------+-------------------+\n",
      "|loudness|            _Scaled|\n",
      "+--------+-------------------+\n",
      "| -11.197|                0.0|\n",
      "|  -9.843|0.20221015744386214|\n",
      "|  -9.689|0.22520900615551515|\n",
      "|  -9.013| 0.3261648952264937|\n",
      "|  -4.501| 0.9999999999999999|\n",
      "+--------+-------------------+\n",
      "\n",
      "None\n"
     ]
    }
   ],
   "source": []
  },
  {
   "cell_type": "code",
   "execution_count": null,
   "id": "00c2ef35",
   "metadata": {},
   "outputs": [],
   "source": []
  },
  {
   "cell_type": "code",
   "execution_count": null,
   "id": "a36ebcaa",
   "metadata": {},
   "outputs": [],
   "source": []
  },
  {
   "cell_type": "code",
   "execution_count": null,
   "id": "c6e1e885",
   "metadata": {},
   "outputs": [],
   "source": []
  },
  {
   "cell_type": "markdown",
   "id": "e6fc44df",
   "metadata": {},
   "source": [
    "#### Plot the normalized and standardized dataset: "
   ]
  },
  {
   "cell_type": "code",
   "execution_count": 48,
   "id": "2b71e85d",
   "metadata": {},
   "outputs": [],
   "source": [
    "fig = plt.figure(figsize = (15,20))\n",
    "ax = fig.gca()\n",
    "d.toPandas().hist(ax = ax)"
   ]
  },
  {
   "cell_type": "code",
   "execution_count": null,
   "id": "476f9a7e",
   "metadata": {},
   "outputs": [],
   "source": []
  },
  {
   "cell_type": "code",
   "execution_count": null,
   "id": "b40ea270",
   "metadata": {},
   "outputs": [],
   "source": []
  },
  {
   "cell_type": "markdown",
   "id": "b837d8f4",
   "metadata": {},
   "source": [
    "#### Second dataset (user/songs/play-count): \n",
    "- Since we are using a subset of songs dataset(MSD subset), it is possible that some songs in User-Songs dataset not to be in the MSD dataset. To make sure we are going to keep only songs in the MSD dataset with leftsemi join method, as follows: "
   ]
  },
  {
   "cell_type": "code",
   "execution_count": 34,
   "id": "4a34d2f8",
   "metadata": {},
   "outputs": [
    {
     "data": {
      "text/plain": [
       "48373586"
      ]
     },
     "execution_count": 34,
     "metadata": {},
     "output_type": "execute_result"
    }
   ],
   "source": [
    "data_imp_rating.count()"
   ]
  },
  {
   "cell_type": "code",
   "execution_count": 35,
   "id": "15377825",
   "metadata": {},
   "outputs": [],
   "source": [
    "data_imp_rating = data_imp_rating.join(data_MSD, data_imp_rating.songId ==  data_MSD.song_id, \"leftsemi\")"
   ]
  },
  {
   "cell_type": "code",
   "execution_count": 36,
   "id": "b1d5da54",
   "metadata": {},
   "outputs": [
    {
     "data": {
      "text/plain": [
       "772661"
      ]
     },
     "execution_count": 36,
     "metadata": {},
     "output_type": "execute_result"
    }
   ],
   "source": [
    "data_imp_rating.count()"
   ]
  },
  {
   "cell_type": "code",
   "execution_count": 37,
   "id": "74af2d77",
   "metadata": {},
   "outputs": [
    {
     "name": "stdout",
     "output_type": "stream",
     "text": [
      "+-------+--------------------+------------------+-----------------+\n",
      "|summary|              userId|            songId|       play_count|\n",
      "+-------+--------------------+------------------+-----------------+\n",
      "|  count|              772661|            772661|           772661|\n",
      "|   mean|                null|              null|2.684340221649598|\n",
      "| stddev|                null|              null| 5.45464579821813|\n",
      "|    min|00001638d61892368...|SOAAAQN12AB01856D3|                1|\n",
      "|    max|fffff67d54a40927c...|SOZZVMW12AB0183B52|              771|\n",
      "+-------+--------------------+------------------+-----------------+\n",
      "\n"
     ]
    }
   ],
   "source": [
    "data_imp_rating.describe().show()"
   ]
  },
  {
   "cell_type": "markdown",
   "id": "c06b8ec9",
   "metadata": {},
   "source": [
    "  "
   ]
  },
  {
   "cell_type": "markdown",
   "id": "f05d7ca9",
   "metadata": {},
   "source": [
    "#### Normalizing songs features: "
   ]
  },
  {
   "cell_type": "markdown",
   "id": "7afb4eac",
   "metadata": {},
   "source": [
    "## Content-Based Recommendation System: "
   ]
  },
  {
   "cell_type": "code",
   "execution_count": 35,
   "id": "74f29aec",
   "metadata": {},
   "outputs": [
    {
     "data": {
      "text/plain": [
       "['song_id',\n",
       " 'title',\n",
       " 'artist_id',\n",
       " 'duration',\n",
       " 'key',\n",
       " 'loudness',\n",
       " 'mode',\n",
       " 'tempo',\n",
       " 'time_signature',\n",
       " 'artist_hotttnesss',\n",
       " 'artist_familiarity']"
      ]
     },
     "execution_count": 35,
     "metadata": {},
     "output_type": "execute_result"
    }
   ],
   "source": [
    "data_MSD.columns"
   ]
  },
  {
   "cell_type": "code",
   "execution_count": 37,
   "id": "badc0550",
   "metadata": {},
   "outputs": [],
   "source": [
    "data_MSD_features = ['duration',\n",
    "                     'key', \n",
    "                     'loudness',\n",
    "                     'mode',\n",
    "                     'tempo',\n",
    "                     'time_signature',\n",
    "                     'artist_hotttnesss', \n",
    "                     'artist_familiarity']"
   ]
  },
  {
   "cell_type": "code",
   "execution_count": 38,
   "id": "0d90d952",
   "metadata": {},
   "outputs": [],
   "source": [
    "temp_name = ['sum(duration)',\n",
    "             'sum(key)', \n",
    "             'sum(loudness)',\n",
    "             'sum(mode)',\n",
    "             'sum(tempo)',\n",
    "             'sum(time_signature)',\n",
    "             'sum(artist_hotttnesss)', \n",
    "             'sum(artist_familiarity)']"
   ]
  },
  {
   "cell_type": "code",
   "execution_count": 59,
   "id": "d3f883ee",
   "metadata": {},
   "outputs": [],
   "source": [
    "# add songs features to implicit dataset(user-song-plays)\n",
    "user_profile = data_MSD.join(data_imp_rating, data_MSD.song_id == data_imp_rating.songId )"
   ]
  },
  {
   "cell_type": "code",
   "execution_count": 60,
   "id": "6e8eda4a",
   "metadata": {},
   "outputs": [
    {
     "data": {
      "text/plain": [
       "['song_id',\n",
       " 'title',\n",
       " 'artist_id',\n",
       " 'duration',\n",
       " 'key',\n",
       " 'loudness',\n",
       " 'mode',\n",
       " 'tempo',\n",
       " 'time_signature',\n",
       " 'artist_hotttnesss',\n",
       " 'artist_familiarity',\n",
       " 'userId',\n",
       " 'songId',\n",
       " 'play_count']"
      ]
     },
     "execution_count": 60,
     "metadata": {},
     "output_type": "execute_result"
    }
   ],
   "source": [
    "user_profile.columns"
   ]
  },
  {
   "cell_type": "code",
   "execution_count": 62,
   "id": "32033687",
   "metadata": {},
   "outputs": [],
   "source": [
    "# calculate the product of each feature with play_count column  \n",
    "for x in data_MSD_features:\n",
    "    user_profile = user_profile.withColumn(x, col(x)*col('play_count'))\n",
    "    \n",
    "user_profile = user_profile.groupby('userId').sum('duration',\n",
    "                                                  'key', \n",
    "                                                  'loudness',\n",
    "                                                  'mode',\n",
    "                                                  'tempo',\n",
    "                                                  'time_signature',\n",
    "                                                  'artist_hotttnesss', \n",
    "                                                  'artist_familiarity')\n"
   ]
  },
  {
   "cell_type": "code",
   "execution_count": 63,
   "id": "0360ebb9",
   "metadata": {},
   "outputs": [
    {
     "data": {
      "text/plain": [
       "['userId',\n",
       " 'sum(duration)',\n",
       " 'sum(key)',\n",
       " 'sum(loudness)',\n",
       " 'sum(mode)',\n",
       " 'sum(tempo)',\n",
       " 'sum(time_signature)',\n",
       " 'sum(artist_hotttnesss)',\n",
       " 'sum(artist_familiarity)']"
      ]
     },
     "execution_count": 63,
     "metadata": {},
     "output_type": "execute_result"
    }
   ],
   "source": [
    "user_profile.columns"
   ]
  },
  {
   "cell_type": "code",
   "execution_count": 65,
   "id": "ca1372c2",
   "metadata": {},
   "outputs": [],
   "source": [
    "#changing the columns name same as songs dataset columns \n",
    "for x,y in zip(data_MSD_features,temp_name):\n",
    "    user_profile = user_profile.withColumnRenamed(y,x)"
   ]
  },
  {
   "cell_type": "code",
   "execution_count": 66,
   "id": "7139a478",
   "metadata": {},
   "outputs": [
    {
     "data": {
      "text/plain": [
       "['userId',\n",
       " 'duration',\n",
       " 'key',\n",
       " 'loudness',\n",
       " 'mode',\n",
       " 'tempo',\n",
       " 'time_signature',\n",
       " 'artist_hotttnesss',\n",
       " 'artist_familiarity']"
      ]
     },
     "execution_count": 66,
     "metadata": {},
     "output_type": "execute_result"
    }
   ],
   "source": [
    "user_profile.columns"
   ]
  },
  {
   "cell_type": "code",
   "execution_count": 71,
   "id": "670d3c03",
   "metadata": {},
   "outputs": [],
   "source": [
    "# add a column to store the sum of feature for each user \n",
    "user_profile= user_profile.withColumn('sum', sum(user_profile[col] for col in data_MSD_features ))\n",
    "\n",
    "# calculate the user interest probability to each feature (feature_value / sum of the value of all features) \n",
    "for x in data_MSD_features:\n",
    "    user_profile= user_profile.withColumn(x, col(x)/col('sum'))"
   ]
  },
  {
   "cell_type": "code",
   "execution_count": 72,
   "id": "95ed28f8",
   "metadata": {},
   "outputs": [
    {
     "data": {
      "text/plain": [
       "['userId',\n",
       " 'duration',\n",
       " 'key',\n",
       " 'loudness',\n",
       " 'mode',\n",
       " 'tempo',\n",
       " 'time_signature',\n",
       " 'artist_hotttnesss',\n",
       " 'artist_familiarity',\n",
       " 'sumall',\n",
       " 'sum']"
      ]
     },
     "execution_count": 72,
     "metadata": {},
     "output_type": "execute_result"
    }
   ],
   "source": [
    "user_profile.columns"
   ]
  },
  {
   "cell_type": "markdown",
   "id": "c97e73a7",
   "metadata": {},
   "source": [
    "Now the user profile is created based on songs he/she played!! \n",
    "\n",
    "<b>Now everything is ready to evaluate most similar songs to a user. </b>"
   ]
  },
  {
   "cell_type": "code",
   "execution_count": null,
   "id": "ea094232",
   "metadata": {},
   "outputs": [],
   "source": []
  },
  {
   "cell_type": "code",
   "execution_count": null,
   "id": "6912eeee",
   "metadata": {},
   "outputs": [],
   "source": [
    "#### Calculate similarity: (in user_profile and songs dataset, data_MSD)\n"
   ]
  },
  {
   "cell_type": "code",
   "execution_count": null,
   "id": "4fc5a9f2",
   "metadata": {},
   "outputs": [],
   "source": []
  },
  {
   "cell_type": "code",
   "execution_count": null,
   "id": "99706436",
   "metadata": {},
   "outputs": [],
   "source": []
  },
  {
   "cell_type": "markdown",
   "id": "6babf20d",
   "metadata": {},
   "source": [
    "\n"
   ]
  },
  {
   "cell_type": "markdown",
   "id": "b09f741f",
   "metadata": {},
   "source": [
    "## ALS Implementation: \n",
    "### Convert userIds and songIds from string to integer: \n",
    "Since ALS algorithm accepts integer type as user and item id, here, we convert them to integer by stringIndexer class.  "
   ]
  },
  {
   "cell_type": "code",
   "execution_count": 22,
   "id": "0603b242",
   "metadata": {},
   "outputs": [],
   "source": [
    "userIndexer = StringIndexer(inputCol='userId', outputCol='userIndex').fit(data_imp_rating)\n",
    "songIndexer = StringIndexer(inputCol='songId', outputCol='songIndex').fit(data_imp_rating)"
   ]
  },
  {
   "cell_type": "markdown",
   "id": "5cf3ae39",
   "metadata": {},
   "source": [
    " Pipeline class provides us accessibility of multiple Transformers and Estimators of Machine Learning. "
   ]
  },
  {
   "cell_type": "code",
   "execution_count": 23,
   "id": "740639c1",
   "metadata": {},
   "outputs": [],
   "source": [
    "pipeline = Pipeline(stages=[userIndexer, songIndexer])\n",
    "data_imp_rating = pipeline.fit(data_imp_rating).transform(data_imp_rating)"
   ]
  },
  {
   "cell_type": "code",
   "execution_count": 24,
   "id": "a64fa995",
   "metadata": {},
   "outputs": [
    {
     "name": "stdout",
     "output_type": "stream",
     "text": [
      "+--------------------+------------------+----------+---------+---------+\n",
      "|              userId|            songId|play_count|userIndex|songIndex|\n",
      "+--------------------+------------------+----------+---------+---------+\n",
      "|4e2e58dd3e4655184...|SOCKUUJ12A6D4FA41C|         1|  53252.0|    147.0|\n",
      "|9b400e47e6c4303a9...|SOCKUUJ12A6D4FA41C|         1| 136450.0|    147.0|\n",
      "|7c215e1d94585e686...|SOCKUUJ12A6D4FA41C|         1| 125168.0|    147.0|\n",
      "|79eca33172405b2f7...|SOCKUUJ12A6D4FA41C|         1|   2663.0|    147.0|\n",
      "|adbe4cdb34bc5f3fd...|SOCKUUJ12A6D4FA41C|         2| 143159.0|    147.0|\n",
      "+--------------------+------------------+----------+---------+---------+\n",
      "only showing top 5 rows\n",
      "\n"
     ]
    }
   ],
   "source": [
    "data_imp_rating.show(5)"
   ]
  },
  {
   "cell_type": "code",
   "execution_count": null,
   "id": "41cd1212",
   "metadata": {},
   "outputs": [],
   "source": []
  },
  {
   "cell_type": "code",
   "execution_count": null,
   "id": "ee5aafba",
   "metadata": {},
   "outputs": [],
   "source": []
  },
  {
   "cell_type": "code",
   "execution_count": null,
   "id": "864c59de",
   "metadata": {},
   "outputs": [],
   "source": []
  },
  {
   "cell_type": "code",
   "execution_count": null,
   "id": "8c826de5",
   "metadata": {},
   "outputs": [],
   "source": []
  },
  {
   "cell_type": "markdown",
   "id": "7362b3b0",
   "metadata": {},
   "source": [
    "- Splitting data to 80% train and 20% percent test"
   ]
  },
  {
   "cell_type": "code",
   "execution_count": 26,
   "id": "7d13eff7",
   "metadata": {},
   "outputs": [],
   "source": [
    "(training, test) = data_imp_rating.randomSplit([0.8, 0.2])"
   ]
  },
  {
   "cell_type": "code",
   "execution_count": 1,
   "id": "de0a0e5b",
   "metadata": {},
   "outputs": [],
   "source": [
    "# ALS Algorithm to fill null values\n",
    "# Build the recommendation model using ALS on the training data\n",
    "# Rating is implicit in our model, it is biased too, so the implicitPrefs assigned true to add biased terms to the algorithm\n",
    "# In this step we are not dealing with cold-start issues so the coldStartStrategy is droped\n",
    "\n",
    "als = ALS(maxIter=5, \n",
    "          regParam=0.1, \n",
    "          userCol=\"userIndex\", \n",
    "          itemCol=\"songIndex\", \n",
    "          ratingCol=\"play_count\",\n",
    "          implicitPrefs = True,\n",
    "          coldStartStrategy=\"drop\")\n",
    "\n",
    "model_CF = als.fit(training)\n",
    "\n",
    "\n"
   ]
  },
  {
   "cell_type": "code",
   "execution_count": null,
   "id": "68391c6c",
   "metadata": {},
   "outputs": [],
   "source": [
    "predictions = model.transform(test)"
   ]
  },
  {
   "cell_type": "code",
   "execution_count": null,
   "id": "c66875c6",
   "metadata": {},
   "outputs": [],
   "source": [
    "# Evaluate the model by computing RMSE\n",
    "evaluator = RegressionEvaluator(metricName=\"rmse\", \n",
    "                                labelCol=\"play_count\",\n",
    "                                predictionCol=\"prediction\")\n",
    "rmse = evaluator.evaluate(predictions)\n",
    "print(\"RMSE error = \" + str(rmse))\n"
   ]
  },
  {
   "cell_type": "code",
   "execution_count": null,
   "id": "e5534296",
   "metadata": {},
   "outputs": [],
   "source": [
    "# Generate top 10 songs recommendations\n",
    "userRecs = model.recommendForAllUsers(5)"
   ]
  },
  {
   "cell_type": "code",
   "execution_count": null,
   "id": "0027b4f2",
   "metadata": {},
   "outputs": [],
   "source": []
  },
  {
   "cell_type": "markdown",
   "id": "2f3ce0e9",
   "metadata": {},
   "source": [
    "### (In-case we need) Cross validation for hyperparameters: "
   ]
  },
  {
   "cell_type": "raw",
   "id": "cf42b5df",
   "metadata": {},
   "source": [
    "als = ALS(userCol=\"userId\", itemCol=\"songId\",ratingCol=\"play_count\")\n",
    "\n",
    "param_grid = ParamGridBuilder().addGrid(als.rank, [10, 100]).addGrid(als.regParam, [.1]).addGrid(als.maxIter, [10]).build()\n",
    "\n",
    "evaluator = RegressionEvaluator(metricName=\"rmse\", labelCol=\"rating\", predictionCol=\"prediction\")\n",
    "\n",
    "cv = CrossValidator(estimator=als, estimatorParamMaps=param_grid, evaluator=evaluator, numFolds=3, parallelism = 6)\n",
    "cv.fit(train)"
   ]
  },
  {
   "cell_type": "code",
   "execution_count": null,
   "id": "e42c35ed",
   "metadata": {},
   "outputs": [],
   "source": []
  }
 ],
 "metadata": {
  "kernelspec": {
   "display_name": "Python 3 (ipykernel)",
   "language": "python",
   "name": "python3"
  },
  "language_info": {
   "codemirror_mode": {
    "name": "ipython",
    "version": 3
   },
   "file_extension": ".py",
   "mimetype": "text/x-python",
   "name": "python",
   "nbconvert_exporter": "python",
   "pygments_lexer": "ipython3",
   "version": "3.8.12"
  }
 },
 "nbformat": 4,
 "nbformat_minor": 5
}
