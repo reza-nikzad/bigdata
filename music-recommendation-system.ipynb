{
 "cells": [
  {
   "cell_type": "code",
   "execution_count": 2,
   "id": "11cf7ed4",
   "metadata": {},
   "outputs": [],
   "source": [
    "import os\n",
    "import sys\n",
    "import sqlite3\n",
    "import pandas as pd\n",
    "import numpy as np\n",
    "# Spark imports\n",
    "from pyspark.rdd import RDD\n",
    "from pyspark.sql import DataFrame\n",
    "from pyspark.sql import SparkSession\n",
    "from pyspark.sql.functions import desc\n",
    "from pyspark import SparkContext, SparkConf"
   ]
  },
  {
   "cell_type": "markdown",
   "id": "57e75714",
   "metadata": {},
   "source": [
    "# Create PySpark SparkSession"
   ]
  },
  {
   "cell_type": "code",
   "execution_count": 3,
   "id": "b145ebbe",
   "metadata": {},
   "outputs": [],
   "source": [
    "conf = SparkConf().setAppName('re').setMaster('local')\n",
    "sc = SparkContext(conf=conf)"
   ]
  },
  {
   "cell_type": "code",
   "execution_count": 4,
   "id": "ef809ae1",
   "metadata": {},
   "outputs": [],
   "source": [
    "spark = SparkSession.builder \\\n",
    "    .master(\"master\") \\\n",
    "    .appName(\"bigdata-project\") \\\n",
    "    .getOrCreate()"
   ]
  },
  {
   "cell_type": "markdown",
   "id": "cb80a422",
   "metadata": {},
   "source": [
    "# Using pandas to import database"
   ]
  },
  {
   "cell_type": "code",
   "execution_count": 6,
   "id": "86a520f8",
   "metadata": {},
   "outputs": [],
   "source": [
    "# put all tables of dataset in a dictionary\n",
    "tables = {}"
   ]
  },
  {
   "cell_type": "markdown",
   "id": "cea89c54",
   "metadata": {},
   "source": [
    "## Load songs table from database (track_metadata.db)"
   ]
  },
  {
   "cell_type": "code",
   "execution_count": 8,
   "id": "f8f4fbf9",
   "metadata": {},
   "outputs": [],
   "source": [
    "conection_track_metadata = sqlite3.connect('dataset/track_metadata.db')"
   ]
  },
  {
   "cell_type": "markdown",
   "id": "3d17494c",
   "metadata": {},
   "source": [
    "- print name of the available tables in the database"
   ]
  },
  {
   "cell_type": "code",
   "execution_count": 9,
   "id": "85ff610b",
   "metadata": {},
   "outputs": [
    {
     "name": "stdout",
     "output_type": "stream",
     "text": [
      "[('songs',)]\n"
     ]
    }
   ],
   "source": [
    "cursor = conection_track_metadata.cursor()\n",
    "cursor.execute(\"SELECT name FROM sqlite_master WHERE type='table';\")\n",
    "track_metadata_tables = cursor.fetchall()\n",
    "print(track_metadata_tables)"
   ]
  },
  {
   "cell_type": "code",
   "execution_count": 10,
   "id": "9651a35c",
   "metadata": {},
   "outputs": [
    {
     "data": {
      "text/html": [
       "<div>\n",
       "<style scoped>\n",
       "    .dataframe tbody tr th:only-of-type {\n",
       "        vertical-align: middle;\n",
       "    }\n",
       "\n",
       "    .dataframe tbody tr th {\n",
       "        vertical-align: top;\n",
       "    }\n",
       "\n",
       "    .dataframe thead th {\n",
       "        text-align: right;\n",
       "    }\n",
       "</style>\n",
       "<table border=\"1\" class=\"dataframe\">\n",
       "  <thead>\n",
       "    <tr style=\"text-align: right;\">\n",
       "      <th></th>\n",
       "      <th>track_id</th>\n",
       "      <th>title</th>\n",
       "      <th>song_id</th>\n",
       "      <th>release</th>\n",
       "      <th>artist_id</th>\n",
       "      <th>artist_mbid</th>\n",
       "      <th>artist_name</th>\n",
       "      <th>duration</th>\n",
       "      <th>artist_familiarity</th>\n",
       "      <th>artist_hotttnesss</th>\n",
       "      <th>year</th>\n",
       "      <th>track_7digitalid</th>\n",
       "      <th>shs_perf</th>\n",
       "      <th>shs_work</th>\n",
       "    </tr>\n",
       "  </thead>\n",
       "  <tbody>\n",
       "    <tr>\n",
       "      <th>0</th>\n",
       "      <td>TRMMMYQ128F932D901</td>\n",
       "      <td>Silent Night</td>\n",
       "      <td>SOQMMHC12AB0180CB8</td>\n",
       "      <td>Monster Ballads X-Mas</td>\n",
       "      <td>ARYZTJS1187B98C555</td>\n",
       "      <td>357ff05d-848a-44cf-b608-cb34b5701ae5</td>\n",
       "      <td>Faster Pussy cat</td>\n",
       "      <td>252.05506</td>\n",
       "      <td>0.649822</td>\n",
       "      <td>0.394032</td>\n",
       "      <td>2003</td>\n",
       "      <td>7032331</td>\n",
       "      <td>-1</td>\n",
       "      <td>0</td>\n",
       "    </tr>\n",
       "    <tr>\n",
       "      <th>1</th>\n",
       "      <td>TRMMMKD128F425225D</td>\n",
       "      <td>Tanssi vaan</td>\n",
       "      <td>SOVFVAK12A8C1350D9</td>\n",
       "      <td>Karkuteillä</td>\n",
       "      <td>ARMVN3U1187FB3A1EB</td>\n",
       "      <td>8d7ef530-a6fd-4f8f-b2e2-74aec765e0f9</td>\n",
       "      <td>Karkkiautomaatti</td>\n",
       "      <td>156.55138</td>\n",
       "      <td>0.439604</td>\n",
       "      <td>0.356992</td>\n",
       "      <td>1995</td>\n",
       "      <td>1514808</td>\n",
       "      <td>-1</td>\n",
       "      <td>0</td>\n",
       "    </tr>\n",
       "    <tr>\n",
       "      <th>2</th>\n",
       "      <td>TRMMMRX128F93187D9</td>\n",
       "      <td>No One Could Ever</td>\n",
       "      <td>SOGTUKN12AB017F4F1</td>\n",
       "      <td>Butter</td>\n",
       "      <td>ARGEKB01187FB50750</td>\n",
       "      <td>3d403d44-36ce-465c-ad43-ae877e65adc4</td>\n",
       "      <td>Hudson Mohawke</td>\n",
       "      <td>138.97098</td>\n",
       "      <td>0.643681</td>\n",
       "      <td>0.437504</td>\n",
       "      <td>2006</td>\n",
       "      <td>6945353</td>\n",
       "      <td>-1</td>\n",
       "      <td>0</td>\n",
       "    </tr>\n",
       "    <tr>\n",
       "      <th>3</th>\n",
       "      <td>TRMMMCH128F425532C</td>\n",
       "      <td>Si Vos Querés</td>\n",
       "      <td>SOBNYVR12A8C13558C</td>\n",
       "      <td>De Culo</td>\n",
       "      <td>ARNWYLR1187B9B2F9C</td>\n",
       "      <td>12be7648-7094-495f-90e6-df4189d68615</td>\n",
       "      <td>Yerba Brava</td>\n",
       "      <td>145.05751</td>\n",
       "      <td>0.448501</td>\n",
       "      <td>0.372349</td>\n",
       "      <td>2003</td>\n",
       "      <td>2168257</td>\n",
       "      <td>-1</td>\n",
       "      <td>0</td>\n",
       "    </tr>\n",
       "    <tr>\n",
       "      <th>4</th>\n",
       "      <td>TRMMMWA128F426B589</td>\n",
       "      <td>Tangle Of Aspens</td>\n",
       "      <td>SOHSBXH12A8C13B0DF</td>\n",
       "      <td>Rene Ablaze Presents Winter Sessions</td>\n",
       "      <td>AREQDTE1269FB37231</td>\n",
       "      <td></td>\n",
       "      <td>Der Mystic</td>\n",
       "      <td>514.29832</td>\n",
       "      <td>0.000000</td>\n",
       "      <td>0.000000</td>\n",
       "      <td>0</td>\n",
       "      <td>2264873</td>\n",
       "      <td>-1</td>\n",
       "      <td>0</td>\n",
       "    </tr>\n",
       "    <tr>\n",
       "      <th>...</th>\n",
       "      <td>...</td>\n",
       "      <td>...</td>\n",
       "      <td>...</td>\n",
       "      <td>...</td>\n",
       "      <td>...</td>\n",
       "      <td>...</td>\n",
       "      <td>...</td>\n",
       "      <td>...</td>\n",
       "      <td>...</td>\n",
       "      <td>...</td>\n",
       "      <td>...</td>\n",
       "      <td>...</td>\n",
       "      <td>...</td>\n",
       "      <td>...</td>\n",
       "    </tr>\n",
       "    <tr>\n",
       "      <th>999995</th>\n",
       "      <td>TRYYYUS12903CD2DF0</td>\n",
       "      <td>O Samba Da Vida</td>\n",
       "      <td>SOTXAME12AB018F136</td>\n",
       "      <td>Pacha V.I.P.</td>\n",
       "      <td>AR7Z4J81187FB3FC59</td>\n",
       "      <td>9d50cb20-7e42-45cc-b0dd-154c3e92a577</td>\n",
       "      <td>Kiko Navarro</td>\n",
       "      <td>217.44281</td>\n",
       "      <td>0.528617</td>\n",
       "      <td>0.411595</td>\n",
       "      <td>0</td>\n",
       "      <td>7522478</td>\n",
       "      <td>-1</td>\n",
       "      <td>0</td>\n",
       "    </tr>\n",
       "    <tr>\n",
       "      <th>999996</th>\n",
       "      <td>TRYYYJO128F426DA37</td>\n",
       "      <td>Jago Chhadeo</td>\n",
       "      <td>SOXQYIQ12A8C137FBB</td>\n",
       "      <td>Naale Baba Lassi Pee Gya</td>\n",
       "      <td>ART5FZD1187B9A7FCF</td>\n",
       "      <td>2357c400-9109-42b6-b3fe-9e2d9f8e3872</td>\n",
       "      <td>Kuldeep Manak</td>\n",
       "      <td>244.16608</td>\n",
       "      <td>0.401500</td>\n",
       "      <td>0.374866</td>\n",
       "      <td>0</td>\n",
       "      <td>1632096</td>\n",
       "      <td>-1</td>\n",
       "      <td>0</td>\n",
       "    </tr>\n",
       "    <tr>\n",
       "      <th>999997</th>\n",
       "      <td>TRYYYMG128F4260ECA</td>\n",
       "      <td>Novemba</td>\n",
       "      <td>SOHODZI12A8C137BB3</td>\n",
       "      <td>Dub_Connected: electronic music</td>\n",
       "      <td>ARZ3R6M1187B9AF750</td>\n",
       "      <td>8b97e9c8-61f5-4615-9a96-276f24204e34</td>\n",
       "      <td>Gabriel Le Mar</td>\n",
       "      <td>553.03791</td>\n",
       "      <td>0.556918</td>\n",
       "      <td>0.336914</td>\n",
       "      <td>0</td>\n",
       "      <td>2219291</td>\n",
       "      <td>-1</td>\n",
       "      <td>0</td>\n",
       "    </tr>\n",
       "    <tr>\n",
       "      <th>999998</th>\n",
       "      <td>TRYYYDJ128F9310A21</td>\n",
       "      <td>Faraday</td>\n",
       "      <td>SOLXGOR12A81C21EB7</td>\n",
       "      <td>The Trance Collection Vol. 2</td>\n",
       "      <td>ARCMCOK1187B9B1073</td>\n",
       "      <td>4ac5f3de-c5ad-475e-ad50-41f1ef9dba20</td>\n",
       "      <td>Elude</td>\n",
       "      <td>484.51873</td>\n",
       "      <td>0.403668</td>\n",
       "      <td>0.256935</td>\n",
       "      <td>0</td>\n",
       "      <td>5472456</td>\n",
       "      <td>-1</td>\n",
       "      <td>0</td>\n",
       "    </tr>\n",
       "    <tr>\n",
       "      <th>999999</th>\n",
       "      <td>TRYYYVU12903CD01E3</td>\n",
       "      <td>Fernweh feat. Sektion Kuchikäschtli</td>\n",
       "      <td>SOWXJXQ12AB0189F43</td>\n",
       "      <td>So Oder So</td>\n",
       "      <td>AR7PLM21187B990D08</td>\n",
       "      <td>3af2b07e-c91c-4160-9bda-f0b9e3144ed3</td>\n",
       "      <td>Texta</td>\n",
       "      <td>295.07873</td>\n",
       "      <td>0.552977</td>\n",
       "      <td>0.454869</td>\n",
       "      <td>2004</td>\n",
       "      <td>8486723</td>\n",
       "      <td>-1</td>\n",
       "      <td>0</td>\n",
       "    </tr>\n",
       "  </tbody>\n",
       "</table>\n",
       "<p>1000000 rows × 14 columns</p>\n",
       "</div>"
      ],
      "text/plain": [
       "                  track_id                                title  \\\n",
       "0       TRMMMYQ128F932D901                         Silent Night   \n",
       "1       TRMMMKD128F425225D                          Tanssi vaan   \n",
       "2       TRMMMRX128F93187D9                    No One Could Ever   \n",
       "3       TRMMMCH128F425532C                        Si Vos Querés   \n",
       "4       TRMMMWA128F426B589                     Tangle Of Aspens   \n",
       "...                    ...                                  ...   \n",
       "999995  TRYYYUS12903CD2DF0                      O Samba Da Vida   \n",
       "999996  TRYYYJO128F426DA37                         Jago Chhadeo   \n",
       "999997  TRYYYMG128F4260ECA                              Novemba   \n",
       "999998  TRYYYDJ128F9310A21                              Faraday   \n",
       "999999  TRYYYVU12903CD01E3  Fernweh feat. Sektion Kuchikäschtli   \n",
       "\n",
       "                   song_id                               release  \\\n",
       "0       SOQMMHC12AB0180CB8                 Monster Ballads X-Mas   \n",
       "1       SOVFVAK12A8C1350D9                           Karkuteillä   \n",
       "2       SOGTUKN12AB017F4F1                                Butter   \n",
       "3       SOBNYVR12A8C13558C                               De Culo   \n",
       "4       SOHSBXH12A8C13B0DF  Rene Ablaze Presents Winter Sessions   \n",
       "...                    ...                                   ...   \n",
       "999995  SOTXAME12AB018F136                          Pacha V.I.P.   \n",
       "999996  SOXQYIQ12A8C137FBB              Naale Baba Lassi Pee Gya   \n",
       "999997  SOHODZI12A8C137BB3       Dub_Connected: electronic music   \n",
       "999998  SOLXGOR12A81C21EB7          The Trance Collection Vol. 2   \n",
       "999999  SOWXJXQ12AB0189F43                            So Oder So   \n",
       "\n",
       "                 artist_id                           artist_mbid  \\\n",
       "0       ARYZTJS1187B98C555  357ff05d-848a-44cf-b608-cb34b5701ae5   \n",
       "1       ARMVN3U1187FB3A1EB  8d7ef530-a6fd-4f8f-b2e2-74aec765e0f9   \n",
       "2       ARGEKB01187FB50750  3d403d44-36ce-465c-ad43-ae877e65adc4   \n",
       "3       ARNWYLR1187B9B2F9C  12be7648-7094-495f-90e6-df4189d68615   \n",
       "4       AREQDTE1269FB37231                                         \n",
       "...                    ...                                   ...   \n",
       "999995  AR7Z4J81187FB3FC59  9d50cb20-7e42-45cc-b0dd-154c3e92a577   \n",
       "999996  ART5FZD1187B9A7FCF  2357c400-9109-42b6-b3fe-9e2d9f8e3872   \n",
       "999997  ARZ3R6M1187B9AF750  8b97e9c8-61f5-4615-9a96-276f24204e34   \n",
       "999998  ARCMCOK1187B9B1073  4ac5f3de-c5ad-475e-ad50-41f1ef9dba20   \n",
       "999999  AR7PLM21187B990D08  3af2b07e-c91c-4160-9bda-f0b9e3144ed3   \n",
       "\n",
       "             artist_name   duration  artist_familiarity  artist_hotttnesss  \\\n",
       "0       Faster Pussy cat  252.05506            0.649822           0.394032   \n",
       "1       Karkkiautomaatti  156.55138            0.439604           0.356992   \n",
       "2         Hudson Mohawke  138.97098            0.643681           0.437504   \n",
       "3            Yerba Brava  145.05751            0.448501           0.372349   \n",
       "4             Der Mystic  514.29832            0.000000           0.000000   \n",
       "...                  ...        ...                 ...                ...   \n",
       "999995      Kiko Navarro  217.44281            0.528617           0.411595   \n",
       "999996     Kuldeep Manak  244.16608            0.401500           0.374866   \n",
       "999997    Gabriel Le Mar  553.03791            0.556918           0.336914   \n",
       "999998             Elude  484.51873            0.403668           0.256935   \n",
       "999999             Texta  295.07873            0.552977           0.454869   \n",
       "\n",
       "        year  track_7digitalid  shs_perf  shs_work  \n",
       "0       2003           7032331        -1         0  \n",
       "1       1995           1514808        -1         0  \n",
       "2       2006           6945353        -1         0  \n",
       "3       2003           2168257        -1         0  \n",
       "4          0           2264873        -1         0  \n",
       "...      ...               ...       ...       ...  \n",
       "999995     0           7522478        -1         0  \n",
       "999996     0           1632096        -1         0  \n",
       "999997     0           2219291        -1         0  \n",
       "999998     0           5472456        -1         0  \n",
       "999999  2004           8486723        -1         0  \n",
       "\n",
       "[1000000 rows x 14 columns]"
      ]
     },
     "execution_count": 10,
     "metadata": {},
     "output_type": "execute_result"
    }
   ],
   "source": [
    "tables[track_metadata_tables[0][0]] = pd.read_sql_query(\"SELECT * FROM songs\", conection_track_metadata)\n",
    "tables['songs']"
   ]
  },
  {
   "cell_type": "markdown",
   "id": "d5ee2d49",
   "metadata": {},
   "source": [
    "## Load artist_similarity database: "
   ]
  },
  {
   "cell_type": "markdown",
   "id": "b2dd53ef",
   "metadata": {},
   "source": [
    "### database connections and artist_similarity tables"
   ]
  },
  {
   "cell_type": "code",
   "execution_count": 11,
   "id": "c4ad642c",
   "metadata": {},
   "outputs": [],
   "source": [
    "conection_artist_similarity = sqlite3.connect('dataset/artist_similarity.db')"
   ]
  },
  {
   "cell_type": "code",
   "execution_count": 12,
   "id": "3b572d8b",
   "metadata": {},
   "outputs": [
    {
     "name": "stdout",
     "output_type": "stream",
     "text": [
      "[('artists',), ('similarity',)]\n"
     ]
    }
   ],
   "source": [
    "cursor = conection_artist_similarity.cursor()\n",
    "cursor.execute(\"SELECT name FROM sqlite_master WHERE type='table';\")\n",
    "artist_similarity_tables = cursor.fetchall()\n",
    "print(artist_similarity_tables)"
   ]
  },
  {
   "cell_type": "code",
   "execution_count": 15,
   "id": "54baa580",
   "metadata": {},
   "outputs": [
    {
     "data": {
      "text/plain": [
       "'artists'"
      ]
     },
     "execution_count": 15,
     "metadata": {},
     "output_type": "execute_result"
    }
   ],
   "source": [
    "artist_similarity_tables[0][0]"
   ]
  },
  {
   "cell_type": "code",
   "execution_count": 16,
   "id": "0d86172b",
   "metadata": {},
   "outputs": [
    {
     "data": {
      "text/html": [
       "<div>\n",
       "<style scoped>\n",
       "    .dataframe tbody tr th:only-of-type {\n",
       "        vertical-align: middle;\n",
       "    }\n",
       "\n",
       "    .dataframe tbody tr th {\n",
       "        vertical-align: top;\n",
       "    }\n",
       "\n",
       "    .dataframe thead th {\n",
       "        text-align: right;\n",
       "    }\n",
       "</style>\n",
       "<table border=\"1\" class=\"dataframe\">\n",
       "  <thead>\n",
       "    <tr style=\"text-align: right;\">\n",
       "      <th></th>\n",
       "      <th>artist_id</th>\n",
       "    </tr>\n",
       "  </thead>\n",
       "  <tbody>\n",
       "    <tr>\n",
       "      <th>0</th>\n",
       "      <td>AR002UA1187B9A637D</td>\n",
       "    </tr>\n",
       "    <tr>\n",
       "      <th>1</th>\n",
       "      <td>AR003FB1187B994355</td>\n",
       "    </tr>\n",
       "    <tr>\n",
       "      <th>2</th>\n",
       "      <td>AR006821187FB5192B</td>\n",
       "    </tr>\n",
       "    <tr>\n",
       "      <th>3</th>\n",
       "      <td>AR009211187B989185</td>\n",
       "    </tr>\n",
       "    <tr>\n",
       "      <th>4</th>\n",
       "      <td>AR009SZ1187B9A73F4</td>\n",
       "    </tr>\n",
       "    <tr>\n",
       "      <th>...</th>\n",
       "      <td>...</td>\n",
       "    </tr>\n",
       "    <tr>\n",
       "      <th>44740</th>\n",
       "      <td>ARZZXT51187FB4627E</td>\n",
       "    </tr>\n",
       "    <tr>\n",
       "      <th>44741</th>\n",
       "      <td>ARZZYRB1187B99D0B6</td>\n",
       "    </tr>\n",
       "    <tr>\n",
       "      <th>44742</th>\n",
       "      <td>ARZZYRH11C8A416A12</td>\n",
       "    </tr>\n",
       "    <tr>\n",
       "      <th>44743</th>\n",
       "      <td>ARZZZAI124207819C9</td>\n",
       "    </tr>\n",
       "    <tr>\n",
       "      <th>44744</th>\n",
       "      <td>ARZZZKG1271F573BC4</td>\n",
       "    </tr>\n",
       "  </tbody>\n",
       "</table>\n",
       "<p>44745 rows × 1 columns</p>\n",
       "</div>"
      ],
      "text/plain": [
       "                artist_id\n",
       "0      AR002UA1187B9A637D\n",
       "1      AR003FB1187B994355\n",
       "2      AR006821187FB5192B\n",
       "3      AR009211187B989185\n",
       "4      AR009SZ1187B9A73F4\n",
       "...                   ...\n",
       "44740  ARZZXT51187FB4627E\n",
       "44741  ARZZYRB1187B99D0B6\n",
       "44742  ARZZYRH11C8A416A12\n",
       "44743  ARZZZAI124207819C9\n",
       "44744  ARZZZKG1271F573BC4\n",
       "\n",
       "[44745 rows x 1 columns]"
      ]
     },
     "execution_count": 16,
     "metadata": {},
     "output_type": "execute_result"
    }
   ],
   "source": [
    "tables[artist_similarity_tables[0][0]] = pd.read_sql_query(\"SELECT * FROM artists\", conection_artist_similarity)\n",
    "tables['artists']"
   ]
  },
  {
   "cell_type": "markdown",
   "id": "db2989a9",
   "metadata": {},
   "source": [
    "- similarity table"
   ]
  },
  {
   "cell_type": "code",
   "execution_count": 17,
   "id": "2644e549",
   "metadata": {},
   "outputs": [
    {
     "data": {
      "text/plain": [
       "'similarity'"
      ]
     },
     "execution_count": 17,
     "metadata": {},
     "output_type": "execute_result"
    }
   ],
   "source": [
    "artist_similarity_tables[1][0]"
   ]
  },
  {
   "cell_type": "code",
   "execution_count": 18,
   "id": "9e82e9d9",
   "metadata": {},
   "outputs": [
    {
     "data": {
      "text/html": [
       "<div>\n",
       "<style scoped>\n",
       "    .dataframe tbody tr th:only-of-type {\n",
       "        vertical-align: middle;\n",
       "    }\n",
       "\n",
       "    .dataframe tbody tr th {\n",
       "        vertical-align: top;\n",
       "    }\n",
       "\n",
       "    .dataframe thead th {\n",
       "        text-align: right;\n",
       "    }\n",
       "</style>\n",
       "<table border=\"1\" class=\"dataframe\">\n",
       "  <thead>\n",
       "    <tr style=\"text-align: right;\">\n",
       "      <th></th>\n",
       "      <th>target</th>\n",
       "      <th>similar</th>\n",
       "    </tr>\n",
       "  </thead>\n",
       "  <tbody>\n",
       "    <tr>\n",
       "      <th>0</th>\n",
       "      <td>AR002UA1187B9A637D</td>\n",
       "      <td>ARQDOR81187FB3B06C</td>\n",
       "    </tr>\n",
       "    <tr>\n",
       "      <th>1</th>\n",
       "      <td>AR002UA1187B9A637D</td>\n",
       "      <td>AROHMXJ1187B989023</td>\n",
       "    </tr>\n",
       "    <tr>\n",
       "      <th>2</th>\n",
       "      <td>AR002UA1187B9A637D</td>\n",
       "      <td>ARAGWVR1187B9B749B</td>\n",
       "    </tr>\n",
       "    <tr>\n",
       "      <th>3</th>\n",
       "      <td>AR002UA1187B9A637D</td>\n",
       "      <td>AREQVWS1241B9CC0A4</td>\n",
       "    </tr>\n",
       "    <tr>\n",
       "      <th>4</th>\n",
       "      <td>AR002UA1187B9A637D</td>\n",
       "      <td>ARHBE351187FB3B0CD</td>\n",
       "    </tr>\n",
       "    <tr>\n",
       "      <th>...</th>\n",
       "      <td>...</td>\n",
       "      <td>...</td>\n",
       "    </tr>\n",
       "    <tr>\n",
       "      <th>2201911</th>\n",
       "      <td>ARZZZKG1271F573BC4</td>\n",
       "      <td>ARBYTEZ1187FB42EC2</td>\n",
       "    </tr>\n",
       "    <tr>\n",
       "      <th>2201912</th>\n",
       "      <td>ARZZZKG1271F573BC4</td>\n",
       "      <td>AR3B4IC1187B98C8B6</td>\n",
       "    </tr>\n",
       "    <tr>\n",
       "      <th>2201913</th>\n",
       "      <td>ARZZZKG1271F573BC4</td>\n",
       "      <td>ARM9KFI1187B9B356C</td>\n",
       "    </tr>\n",
       "    <tr>\n",
       "      <th>2201914</th>\n",
       "      <td>ARZZZKG1271F573BC4</td>\n",
       "      <td>ARF5QVT1187B9946B9</td>\n",
       "    </tr>\n",
       "    <tr>\n",
       "      <th>2201915</th>\n",
       "      <td>ARZZZKG1271F573BC4</td>\n",
       "      <td>ARHTAPO1187FB5AADE</td>\n",
       "    </tr>\n",
       "  </tbody>\n",
       "</table>\n",
       "<p>2201916 rows × 2 columns</p>\n",
       "</div>"
      ],
      "text/plain": [
       "                     target             similar\n",
       "0        AR002UA1187B9A637D  ARQDOR81187FB3B06C\n",
       "1        AR002UA1187B9A637D  AROHMXJ1187B989023\n",
       "2        AR002UA1187B9A637D  ARAGWVR1187B9B749B\n",
       "3        AR002UA1187B9A637D  AREQVWS1241B9CC0A4\n",
       "4        AR002UA1187B9A637D  ARHBE351187FB3B0CD\n",
       "...                     ...                 ...\n",
       "2201911  ARZZZKG1271F573BC4  ARBYTEZ1187FB42EC2\n",
       "2201912  ARZZZKG1271F573BC4  AR3B4IC1187B98C8B6\n",
       "2201913  ARZZZKG1271F573BC4  ARM9KFI1187B9B356C\n",
       "2201914  ARZZZKG1271F573BC4  ARF5QVT1187B9946B9\n",
       "2201915  ARZZZKG1271F573BC4  ARHTAPO1187FB5AADE\n",
       "\n",
       "[2201916 rows x 2 columns]"
      ]
     },
     "execution_count": 18,
     "metadata": {},
     "output_type": "execute_result"
    }
   ],
   "source": [
    "tables[artist_similarity_tables[1][0]] = pd.read_sql_query(\"SELECT * FROM similarity\", conection_artist_similarity)\n",
    "tables['similarity']"
   ]
  },
  {
   "cell_type": "markdown",
   "id": "1e05c794",
   "metadata": {},
   "source": [
    "### Loading 5 tables from artist_term.db (artist_mbtag, artist_term, artists, mbtags, terms): "
   ]
  },
  {
   "cell_type": "markdown",
   "id": "099829fe",
   "metadata": {},
   "source": [
    "- connect to database"
   ]
  },
  {
   "cell_type": "code",
   "execution_count": 19,
   "id": "0954b37e",
   "metadata": {},
   "outputs": [],
   "source": [
    "connection_artist_term = sqlite3.connect('dataset/artist_term.db')"
   ]
  },
  {
   "cell_type": "code",
   "execution_count": 21,
   "id": "65039237",
   "metadata": {},
   "outputs": [
    {
     "name": "stdout",
     "output_type": "stream",
     "text": [
      "[('artists',), ('terms',), ('artist_term',), ('mbtags',), ('artist_mbtag',)]\n"
     ]
    }
   ],
   "source": [
    "cursor = connection_artist_term.cursor()\n",
    "cursor.execute(\"SELECT name FROM sqlite_master WHERE type='table';\")\n",
    "artist_term_tables = cursor.fetchall()\n",
    "print(artist_term_tables)"
   ]
  },
  {
   "cell_type": "markdown",
   "id": "7c999c66",
   "metadata": {},
   "source": [
    "- Query to \"artist_mbtag\" table and create pandas dataframe and add it to the table"
   ]
  },
  {
   "cell_type": "code",
   "execution_count": 22,
   "id": "74deae53",
   "metadata": {},
   "outputs": [
    {
     "data": {
      "text/plain": [
       "'artist_mbtag'"
      ]
     },
     "execution_count": 22,
     "metadata": {},
     "output_type": "execute_result"
    }
   ],
   "source": [
    "artist_term_tables[4][0]"
   ]
  },
  {
   "cell_type": "code",
   "execution_count": 23,
   "id": "0757faa3",
   "metadata": {},
   "outputs": [
    {
     "data": {
      "text/html": [
       "<div>\n",
       "<style scoped>\n",
       "    .dataframe tbody tr th:only-of-type {\n",
       "        vertical-align: middle;\n",
       "    }\n",
       "\n",
       "    .dataframe tbody tr th {\n",
       "        vertical-align: top;\n",
       "    }\n",
       "\n",
       "    .dataframe thead th {\n",
       "        text-align: right;\n",
       "    }\n",
       "</style>\n",
       "<table border=\"1\" class=\"dataframe\">\n",
       "  <thead>\n",
       "    <tr style=\"text-align: right;\">\n",
       "      <th></th>\n",
       "      <th>artist_id</th>\n",
       "      <th>mbtag</th>\n",
       "    </tr>\n",
       "  </thead>\n",
       "  <tbody>\n",
       "    <tr>\n",
       "      <th>0</th>\n",
       "      <td>AR002UA1187B9A637D</td>\n",
       "      <td>uk</td>\n",
       "    </tr>\n",
       "    <tr>\n",
       "      <th>1</th>\n",
       "      <td>AR002UA1187B9A637D</td>\n",
       "      <td>rock</td>\n",
       "    </tr>\n",
       "    <tr>\n",
       "      <th>2</th>\n",
       "      <td>AR002UA1187B9A637D</td>\n",
       "      <td>garage rock</td>\n",
       "    </tr>\n",
       "    <tr>\n",
       "      <th>3</th>\n",
       "      <td>AR006821187FB5192B</td>\n",
       "      <td>bass</td>\n",
       "    </tr>\n",
       "    <tr>\n",
       "      <th>4</th>\n",
       "      <td>AR00A6H1187FB5402A</td>\n",
       "      <td>detroit</td>\n",
       "    </tr>\n",
       "    <tr>\n",
       "      <th>...</th>\n",
       "      <td>...</td>\n",
       "      <td>...</td>\n",
       "    </tr>\n",
       "    <tr>\n",
       "      <th>24772</th>\n",
       "      <td>ARZZMWO1187B9AFB36</td>\n",
       "      <td>usa</td>\n",
       "    </tr>\n",
       "    <tr>\n",
       "      <th>24773</th>\n",
       "      <td>ARZZMWO1187B9AFB36</td>\n",
       "      <td>metal</td>\n",
       "    </tr>\n",
       "    <tr>\n",
       "      <th>24774</th>\n",
       "      <td>ARZZXT51187FB4627E</td>\n",
       "      <td>classic pop and rock</td>\n",
       "    </tr>\n",
       "    <tr>\n",
       "      <th>24775</th>\n",
       "      <td>ARZZYRB1187B99D0B6</td>\n",
       "      <td>jazz</td>\n",
       "    </tr>\n",
       "    <tr>\n",
       "      <th>24776</th>\n",
       "      <td>ARZZYRB1187B99D0B6</td>\n",
       "      <td>canadian</td>\n",
       "    </tr>\n",
       "  </tbody>\n",
       "</table>\n",
       "<p>24777 rows × 2 columns</p>\n",
       "</div>"
      ],
      "text/plain": [
       "                artist_id                 mbtag\n",
       "0      AR002UA1187B9A637D                    uk\n",
       "1      AR002UA1187B9A637D                  rock\n",
       "2      AR002UA1187B9A637D           garage rock\n",
       "3      AR006821187FB5192B                  bass\n",
       "4      AR00A6H1187FB5402A               detroit\n",
       "...                   ...                   ...\n",
       "24772  ARZZMWO1187B9AFB36                   usa\n",
       "24773  ARZZMWO1187B9AFB36                 metal\n",
       "24774  ARZZXT51187FB4627E  classic pop and rock\n",
       "24775  ARZZYRB1187B99D0B6                  jazz\n",
       "24776  ARZZYRB1187B99D0B6              canadian\n",
       "\n",
       "[24777 rows x 2 columns]"
      ]
     },
     "execution_count": 23,
     "metadata": {},
     "output_type": "execute_result"
    }
   ],
   "source": [
    "tables[artist_term_tables[4][0]] = pd.read_sql_query(\"SELECT * FROM artist_mbtag\", connection_artist_term)\n",
    "tables['artist_mbtag']"
   ]
  },
  {
   "cell_type": "markdown",
   "id": "4f5f24a6",
   "metadata": {},
   "source": [
    "- Query to \"artist_term\" table and create pandas dataframe"
   ]
  },
  {
   "cell_type": "code",
   "execution_count": 25,
   "id": "c486d343",
   "metadata": {},
   "outputs": [
    {
     "data": {
      "text/plain": [
       "'artist_term'"
      ]
     },
     "execution_count": 25,
     "metadata": {},
     "output_type": "execute_result"
    }
   ],
   "source": [
    "artist_term_tables[2][0]"
   ]
  },
  {
   "cell_type": "code",
   "execution_count": 26,
   "id": "32fa2ba7",
   "metadata": {},
   "outputs": [
    {
     "data": {
      "text/html": [
       "<div>\n",
       "<style scoped>\n",
       "    .dataframe tbody tr th:only-of-type {\n",
       "        vertical-align: middle;\n",
       "    }\n",
       "\n",
       "    .dataframe tbody tr th {\n",
       "        vertical-align: top;\n",
       "    }\n",
       "\n",
       "    .dataframe thead th {\n",
       "        text-align: right;\n",
       "    }\n",
       "</style>\n",
       "<table border=\"1\" class=\"dataframe\">\n",
       "  <thead>\n",
       "    <tr style=\"text-align: right;\">\n",
       "      <th></th>\n",
       "      <th>artist_id</th>\n",
       "      <th>term</th>\n",
       "    </tr>\n",
       "  </thead>\n",
       "  <tbody>\n",
       "    <tr>\n",
       "      <th>0</th>\n",
       "      <td>AR002UA1187B9A637D</td>\n",
       "      <td>garage rock</td>\n",
       "    </tr>\n",
       "    <tr>\n",
       "      <th>1</th>\n",
       "      <td>AR002UA1187B9A637D</td>\n",
       "      <td>country rock</td>\n",
       "    </tr>\n",
       "    <tr>\n",
       "      <th>2</th>\n",
       "      <td>AR002UA1187B9A637D</td>\n",
       "      <td>free jazz</td>\n",
       "    </tr>\n",
       "    <tr>\n",
       "      <th>3</th>\n",
       "      <td>AR002UA1187B9A637D</td>\n",
       "      <td>oi</td>\n",
       "    </tr>\n",
       "    <tr>\n",
       "      <th>4</th>\n",
       "      <td>AR002UA1187B9A637D</td>\n",
       "      <td>space rock</td>\n",
       "    </tr>\n",
       "    <tr>\n",
       "      <th>...</th>\n",
       "      <td>...</td>\n",
       "      <td>...</td>\n",
       "    </tr>\n",
       "    <tr>\n",
       "      <th>1109376</th>\n",
       "      <td>ARZZZKG1271F573BC4</td>\n",
       "      <td>heavy</td>\n",
       "    </tr>\n",
       "    <tr>\n",
       "      <th>1109377</th>\n",
       "      <td>ARZZZKG1271F573BC4</td>\n",
       "      <td>dark</td>\n",
       "    </tr>\n",
       "    <tr>\n",
       "      <th>1109378</th>\n",
       "      <td>ARZZZKG1271F573BC4</td>\n",
       "      <td>instrumental</td>\n",
       "    </tr>\n",
       "    <tr>\n",
       "      <th>1109379</th>\n",
       "      <td>ARZZZKG1271F573BC4</td>\n",
       "      <td>beautiful</td>\n",
       "    </tr>\n",
       "    <tr>\n",
       "      <th>1109380</th>\n",
       "      <td>ARZZZKG1271F573BC4</td>\n",
       "      <td>guitar</td>\n",
       "    </tr>\n",
       "  </tbody>\n",
       "</table>\n",
       "<p>1109381 rows × 2 columns</p>\n",
       "</div>"
      ],
      "text/plain": [
       "                  artist_id          term\n",
       "0        AR002UA1187B9A637D   garage rock\n",
       "1        AR002UA1187B9A637D  country rock\n",
       "2        AR002UA1187B9A637D     free jazz\n",
       "3        AR002UA1187B9A637D            oi\n",
       "4        AR002UA1187B9A637D    space rock\n",
       "...                     ...           ...\n",
       "1109376  ARZZZKG1271F573BC4         heavy\n",
       "1109377  ARZZZKG1271F573BC4          dark\n",
       "1109378  ARZZZKG1271F573BC4  instrumental\n",
       "1109379  ARZZZKG1271F573BC4     beautiful\n",
       "1109380  ARZZZKG1271F573BC4        guitar\n",
       "\n",
       "[1109381 rows x 2 columns]"
      ]
     },
     "execution_count": 26,
     "metadata": {},
     "output_type": "execute_result"
    }
   ],
   "source": [
    "tables[artist_term_tables[2][0]] =  pd.read_sql_query(\"SELECT * FROM artist_term\", connection_artist_term)\n",
    "tables['artist_term'] "
   ]
  },
  {
   "cell_type": "markdown",
   "id": "1c142278",
   "metadata": {},
   "source": [
    "- Query to \"mbtags\" table and create pandas dataframe"
   ]
  },
  {
   "cell_type": "code",
   "execution_count": 27,
   "id": "386f06c2",
   "metadata": {},
   "outputs": [
    {
     "data": {
      "text/plain": [
       "'mbtags'"
      ]
     },
     "execution_count": 27,
     "metadata": {},
     "output_type": "execute_result"
    }
   ],
   "source": [
    "artist_term_tables[3][0]"
   ]
  },
  {
   "cell_type": "code",
   "execution_count": 28,
   "id": "1c10d401",
   "metadata": {},
   "outputs": [
    {
     "data": {
      "text/html": [
       "<div>\n",
       "<style scoped>\n",
       "    .dataframe tbody tr th:only-of-type {\n",
       "        vertical-align: middle;\n",
       "    }\n",
       "\n",
       "    .dataframe tbody tr th {\n",
       "        vertical-align: top;\n",
       "    }\n",
       "\n",
       "    .dataframe thead th {\n",
       "        text-align: right;\n",
       "    }\n",
       "</style>\n",
       "<table border=\"1\" class=\"dataframe\">\n",
       "  <thead>\n",
       "    <tr style=\"text-align: right;\">\n",
       "      <th></th>\n",
       "      <th>mbtag</th>\n",
       "    </tr>\n",
       "  </thead>\n",
       "  <tbody>\n",
       "    <tr>\n",
       "      <th>0</th>\n",
       "      <td>00s</td>\n",
       "    </tr>\n",
       "    <tr>\n",
       "      <th>1</th>\n",
       "      <td>00s 10s</td>\n",
       "    </tr>\n",
       "    <tr>\n",
       "      <th>2</th>\n",
       "      <td>1 13 165900 150 7672 22647 34612 48720 59280 7...</td>\n",
       "    </tr>\n",
       "    <tr>\n",
       "      <th>3</th>\n",
       "      <td>1 7 186240 183 23558 41608 89158 111733 150833...</td>\n",
       "    </tr>\n",
       "    <tr>\n",
       "      <th>4</th>\n",
       "      <td>10s</td>\n",
       "    </tr>\n",
       "    <tr>\n",
       "      <th>...</th>\n",
       "      <td>...</td>\n",
       "    </tr>\n",
       "    <tr>\n",
       "      <th>2316</th>\n",
       "      <td>ਭੰਗੜਾ</td>\n",
       "    </tr>\n",
       "    <tr>\n",
       "      <th>2317</th>\n",
       "      <td>ハロー プロジェクト</td>\n",
       "    </tr>\n",
       "    <tr>\n",
       "      <th>2318</th>\n",
       "      <td>姚姓</td>\n",
       "    </tr>\n",
       "    <tr>\n",
       "      <th>2319</th>\n",
       "      <td>日本</td>\n",
       "    </tr>\n",
       "    <tr>\n",
       "      <th>2320</th>\n",
       "      <td>香港歌手</td>\n",
       "    </tr>\n",
       "  </tbody>\n",
       "</table>\n",
       "<p>2321 rows × 1 columns</p>\n",
       "</div>"
      ],
      "text/plain": [
       "                                                  mbtag\n",
       "0                                                   00s\n",
       "1                                               00s 10s\n",
       "2     1 13 165900 150 7672 22647 34612 48720 59280 7...\n",
       "3     1 7 186240 183 23558 41608 89158 111733 150833...\n",
       "4                                                   10s\n",
       "...                                                 ...\n",
       "2316                                              ਭੰਗੜਾ\n",
       "2317                                         ハロー プロジェクト\n",
       "2318                                                 姚姓\n",
       "2319                                                 日本\n",
       "2320                                               香港歌手\n",
       "\n",
       "[2321 rows x 1 columns]"
      ]
     },
     "execution_count": 28,
     "metadata": {},
     "output_type": "execute_result"
    }
   ],
   "source": [
    "tables[artist_term_tables[3][0]] = pd.read_sql_query(\"SELECT * FROM mbtags\", connection_artist_term)\n",
    "tables['mbtags']"
   ]
  },
  {
   "cell_type": "markdown",
   "id": "e8a6fc29",
   "metadata": {},
   "source": [
    "- Query to \"terms\" table and create pandas dataframe"
   ]
  },
  {
   "cell_type": "code",
   "execution_count": 29,
   "id": "c9656b4a",
   "metadata": {},
   "outputs": [
    {
     "data": {
      "text/plain": [
       "'terms'"
      ]
     },
     "execution_count": 29,
     "metadata": {},
     "output_type": "execute_result"
    }
   ],
   "source": [
    "artist_term_tables[1][0]"
   ]
  },
  {
   "cell_type": "code",
   "execution_count": 32,
   "id": "34d7d838",
   "metadata": {},
   "outputs": [
    {
     "data": {
      "text/html": [
       "<div>\n",
       "<style scoped>\n",
       "    .dataframe tbody tr th:only-of-type {\n",
       "        vertical-align: middle;\n",
       "    }\n",
       "\n",
       "    .dataframe tbody tr th {\n",
       "        vertical-align: top;\n",
       "    }\n",
       "\n",
       "    .dataframe thead th {\n",
       "        text-align: right;\n",
       "    }\n",
       "</style>\n",
       "<table border=\"1\" class=\"dataframe\">\n",
       "  <thead>\n",
       "    <tr style=\"text-align: right;\">\n",
       "      <th></th>\n",
       "      <th>term</th>\n",
       "    </tr>\n",
       "  </thead>\n",
       "  <tbody>\n",
       "    <tr>\n",
       "      <th>0</th>\n",
       "      <td>00s</td>\n",
       "    </tr>\n",
       "    <tr>\n",
       "      <th>1</th>\n",
       "      <td>00s alternative</td>\n",
       "    </tr>\n",
       "    <tr>\n",
       "      <th>2</th>\n",
       "      <td>00s country</td>\n",
       "    </tr>\n",
       "    <tr>\n",
       "      <th>3</th>\n",
       "      <td>00s indie</td>\n",
       "    </tr>\n",
       "    <tr>\n",
       "      <th>4</th>\n",
       "      <td>00s pop</td>\n",
       "    </tr>\n",
       "    <tr>\n",
       "      <th>...</th>\n",
       "      <td>...</td>\n",
       "    </tr>\n",
       "    <tr>\n",
       "      <th>7638</th>\n",
       "      <td>zxzw 2006</td>\n",
       "    </tr>\n",
       "    <tr>\n",
       "      <th>7639</th>\n",
       "      <td>zxzw 2007</td>\n",
       "    </tr>\n",
       "    <tr>\n",
       "      <th>7640</th>\n",
       "      <td>zxzw 2008</td>\n",
       "    </tr>\n",
       "    <tr>\n",
       "      <th>7641</th>\n",
       "      <td>zxzw 2009</td>\n",
       "    </tr>\n",
       "    <tr>\n",
       "      <th>7642</th>\n",
       "      <td>zydeco</td>\n",
       "    </tr>\n",
       "  </tbody>\n",
       "</table>\n",
       "<p>7643 rows × 1 columns</p>\n",
       "</div>"
      ],
      "text/plain": [
       "                 term\n",
       "0                 00s\n",
       "1     00s alternative\n",
       "2         00s country\n",
       "3           00s indie\n",
       "4             00s pop\n",
       "...               ...\n",
       "7638        zxzw 2006\n",
       "7639        zxzw 2007\n",
       "7640        zxzw 2008\n",
       "7641        zxzw 2009\n",
       "7642           zydeco\n",
       "\n",
       "[7643 rows x 1 columns]"
      ]
     },
     "execution_count": 32,
     "metadata": {},
     "output_type": "execute_result"
    }
   ],
   "source": [
    "tables[artist_term_tables[1][0]] = pd.read_sql_query(\"SELECT * FROM terms\", connection_artist_term)\n",
    "tables['terms']"
   ]
  },
  {
   "cell_type": "code",
   "execution_count": 33,
   "id": "8be6a994",
   "metadata": {},
   "outputs": [
    {
     "data": {
      "text/plain": [
       "dict_keys(['songs', 'artists', 'similarity', 'artist_mbtag', 'artist_term', 'mbtags', 'terms'])"
      ]
     },
     "execution_count": 33,
     "metadata": {},
     "output_type": "execute_result"
    }
   ],
   "source": [
    "tables.keys()"
   ]
  },
  {
   "cell_type": "code",
   "execution_count": 34,
   "id": "f96cdfd1",
   "metadata": {},
   "outputs": [
    {
     "data": {
      "text/plain": [
       "pandas.core.frame.DataFrame"
      ]
     },
     "execution_count": 34,
     "metadata": {},
     "output_type": "execute_result"
    }
   ],
   "source": [
    "type(tables['songs'])"
   ]
  },
  {
   "cell_type": "markdown",
   "id": "852a5ac5",
   "metadata": {},
   "source": [
    "# Convert Pandas dataframe to PySpark DataFrame"
   ]
  },
  {
   "cell_type": "code",
   "execution_count": 36,
   "id": "b9238677",
   "metadata": {},
   "outputs": [],
   "source": [
    "for key in tables.keys(): \n",
    "    tables[key] = spark.createDataFrame(tables[key]) "
   ]
  },
  {
   "cell_type": "code",
   "execution_count": 38,
   "id": "25f2c255",
   "metadata": {},
   "outputs": [
    {
     "data": {
      "text/plain": [
       "pyspark.sql.dataframe.DataFrame"
      ]
     },
     "execution_count": 38,
     "metadata": {},
     "output_type": "execute_result"
    }
   ],
   "source": [
    "type(tables['songs'])"
   ]
  },
  {
   "cell_type": "code",
   "execution_count": null,
   "id": "359817e4",
   "metadata": {},
   "outputs": [],
   "source": []
  },
  {
   "cell_type": "code",
   "execution_count": null,
   "id": "89476ef6",
   "metadata": {},
   "outputs": [],
   "source": []
  },
  {
   "cell_type": "code",
   "execution_count": null,
   "id": "de7b5de5",
   "metadata": {},
   "outputs": [],
   "source": []
  },
  {
   "cell_type": "code",
   "execution_count": null,
   "id": "ff3d884b",
   "metadata": {},
   "outputs": [],
   "source": []
  },
  {
   "cell_type": "code",
   "execution_count": null,
   "id": "0eb2df89",
   "metadata": {},
   "outputs": [],
   "source": []
  },
  {
   "cell_type": "code",
   "execution_count": null,
   "id": "ddbd80d5",
   "metadata": {},
   "outputs": [],
   "source": []
  },
  {
   "cell_type": "code",
   "execution_count": null,
   "id": "37950730",
   "metadata": {},
   "outputs": [],
   "source": []
  }
 ],
 "metadata": {
  "kernelspec": {
   "display_name": "Python 3 (ipykernel)",
   "language": "python",
   "name": "python3"
  },
  "language_info": {
   "codemirror_mode": {
    "name": "ipython",
    "version": 3
   },
   "file_extension": ".py",
   "mimetype": "text/x-python",
   "name": "python",
   "nbconvert_exporter": "python",
   "pygments_lexer": "ipython3",
   "version": "3.8.12"
  }
 },
 "nbformat": 4,
 "nbformat_minor": 5
}
